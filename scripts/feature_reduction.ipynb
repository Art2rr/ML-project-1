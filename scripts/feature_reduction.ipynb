{
 "cells": [
  {
   "cell_type": "code",
   "execution_count": 1,
   "metadata": {
    "tags": []
   },
   "outputs": [],
   "source": [
    "# Useful starting lines\n",
    "%matplotlib inline\n",
    "import numpy as np\n",
    "import matplotlib.pyplot as plt\n",
    "%load_ext autoreload\n",
    "%autoreload 2"
   ]
  },
  {
   "cell_type": "markdown",
   "metadata": {},
   "source": [
    "## Load the training data into feature matrix, class labels, and event ids:"
   ]
  },
  {
   "cell_type": "code",
   "execution_count": 2,
   "metadata": {
    "collapsed": false,
    "jupyter": {
     "outputs_hidden": false
    }
   },
   "outputs": [],
   "source": [
    "from proj1_helpers import *\n",
    "DATA_TRAIN_PATH = './train.csv' # TODO: download train data and supply path here \n",
    "y, tX, ids = load_csv_data(DATA_TRAIN_PATH)"
   ]
  },
  {
   "cell_type": "markdown",
   "metadata": {},
   "source": [
    "## Do your thing crazy machine learning thing here :) ..."
   ]
  },
  {
   "cell_type": "code",
   "execution_count": 3,
   "metadata": {},
   "outputs": [
    {
     "data": {
      "text/plain": [
       "(250000, 30)"
      ]
     },
     "execution_count": 3,
     "metadata": {},
     "output_type": "execute_result"
    }
   ],
   "source": [
    "np.shape(tX)\n",
    "#np.shape(y)"
   ]
  },
  {
   "cell_type": "code",
   "execution_count": 4,
   "metadata": {},
   "outputs": [
    {
     "data": {
      "text/plain": [
       "array([False])"
      ]
     },
     "execution_count": 4,
     "metadata": {},
     "output_type": "execute_result"
    }
   ],
   "source": [
    "#check for any NaN values\n",
    "nans = np.isnan(tX)\n",
    "np.unique(nans)"
   ]
  },
  {
   "cell_type": "markdown",
   "metadata": {
    "tags": []
   },
   "source": [
    "## Feature reduction"
   ]
  },
  {
   "cell_type": "markdown",
   "metadata": {
    "tags": []
   },
   "source": [
    "### Removing features that are mostly one value"
   ]
  },
  {
   "cell_type": "code",
   "execution_count": 5,
   "metadata": {},
   "outputs": [],
   "source": [
    "def feature_selection(tX,val=-999):\n",
    "    #there is a lot of -999 values in the data\n",
    "    #count the occurences for each feature\n",
    "    f_to_remove = []\n",
    "    for f in range(np.shape(tX)[1]):\n",
    "        #print(tX[:,f])\n",
    "        unique, counts = np.unique(tX[:,f], return_counts=True)\n",
    "        count_dic = dict(zip(unique, counts))\n",
    "        if val in count_dic:\n",
    "            nb_999 = count_dic[val]\n",
    "            nb_tot = np.shape(tX)[0]\n",
    "            print(f\"feature: \",f)\n",
    "            per = (nb_999/nb_tot)*100\n",
    "            print(f\"number of \", val,\" values\",nb_999,\"which is\",per,\"%\")\n",
    "            if per > 10:\n",
    "                f_to_remove.append(f)\n",
    "    print(f\"to remove\",f_to_remove)\n",
    "    return f_to_remove"
   ]
  },
  {
   "cell_type": "code",
   "execution_count": 8,
   "metadata": {},
   "outputs": [
    {
     "data": {
      "text/plain": [
       "[0, 4, 5, 6, 12, 23, 24, 25, 26, 27, 28]"
      ]
     },
     "execution_count": 8,
     "metadata": {},
     "output_type": "execute_result"
    }
   ],
   "source": [
    " f_to_remove"
   ]
  },
  {
   "cell_type": "code",
   "execution_count": 7,
   "metadata": {},
   "outputs": [
    {
     "name": "stdout",
     "output_type": "stream",
     "text": [
      "feature:  0\n",
      "number of -999 values 38114 which is 15.245600000000001 %\n",
      "feature:  4\n",
      "number of -999 values 177457 which is 70.9828 %\n",
      "feature:  5\n",
      "number of -999 values 177457 which is 70.9828 %\n",
      "feature:  6\n",
      "number of -999 values 177457 which is 70.9828 %\n",
      "feature:  12\n",
      "number of -999 values 177457 which is 70.9828 %\n",
      "feature:  23\n",
      "number of -999 values 99913 which is 39.9652 %\n",
      "feature:  24\n",
      "number of -999 values 99913 which is 39.9652 %\n",
      "feature:  25\n",
      "number of -999 values 99913 which is 39.9652 %\n",
      "feature:  26\n",
      "number of -999 values 177457 which is 70.9828 %\n",
      "feature:  27\n",
      "number of -999 values 177457 which is 70.9828 %\n",
      "feature:  28\n",
      "number of -999 values 177457 which is 70.9828 %\n",
      "to remove [0, 4, 5, 6, 12, 23, 24, 25, 26, 27, 28]\n"
     ]
    }
   ],
   "source": [
    "#there is a lot of -999 values in the data\n",
    "#count the occurences for each feature\n",
    "f_to_remove = []\n",
    "for f in range(np.shape(tX)[1]):\n",
    "    #print(tX[:,f])\n",
    "    unique, counts = np.unique(tX[:,f], return_counts=True)\n",
    "    count_dic = dict(zip(unique, counts))\n",
    "    if -999 in count_dic:\n",
    "        nb_999 = count_dic[-999]\n",
    "        nb_tot = np.shape(tX)[0]\n",
    "        print(f\"feature: \",f)\n",
    "        per = (nb_999/nb_tot)*100\n",
    "        print(f\"number of -999 values\",nb_999,\"which is\",per,\"%\")\n",
    "        if per > 10:\n",
    "            f_to_remove.append(f)\n",
    "print(f\"to remove\",f_to_remove)"
   ]
  },
  {
   "cell_type": "code",
   "execution_count": 8,
   "metadata": {},
   "outputs": [
    {
     "data": {
      "text/plain": [
       "(250000, 19)"
      ]
     },
     "execution_count": 8,
     "metadata": {},
     "output_type": "execute_result"
    }
   ],
   "source": [
    "#delete the selected features\n",
    "tX_red_f = np.delete(tX,f_to_remove,1)\n",
    "np.shape(tX_red_f)"
   ]
  },
  {
   "cell_type": "markdown",
   "metadata": {
    "tags": []
   },
   "source": [
    "### Checking feature similarity"
   ]
  },
  {
   "cell_type": "code",
   "execution_count": 9,
   "metadata": {},
   "outputs": [
    {
     "data": {
      "text/plain": [
       "(250000, 19)"
      ]
     },
     "execution_count": 9,
     "metadata": {},
     "output_type": "execute_result"
    }
   ],
   "source": [
    "np.shape(tX_red_f)"
   ]
  },
  {
   "cell_type": "code",
   "execution_count": 10,
   "metadata": {},
   "outputs": [],
   "source": [
    "def f_corr(corr_thr):\n",
    "    #find correlation between the features\n",
    "    #corr_thr = 8e-1\n",
    "    corr = np.absolute(np.corrcoef(tX_red_f.T))\n",
    "    bool_cor = np.greater(corr,corr_thr)\n",
    "    f1,f2 = np.where(bool_cor)\n",
    "    for i in range(len(f1)):\n",
    "        if ~(f1[i] == f2[i]):\n",
    "            corr_val = corr[f1[i],f2[i]]\n",
    "            print(f\"Features \",f1[i],\"and\",f2[i],\"are strongly correlated. Value:\",corr_val)"
   ]
  },
  {
   "cell_type": "code",
   "execution_count": 11,
   "metadata": {},
   "outputs": [
    {
     "name": "stdout",
     "output_type": "stream",
     "text": [
      "Features  2 and 5 are strongly correlated. Value: 0.8327330666331234\n",
      "Features  2 and 18 are strongly correlated. Value: 0.8086162641281681\n",
      "Features  5 and 2 are strongly correlated. Value: 0.8327330666331234\n",
      "Features  5 and 16 are strongly correlated. Value: 0.9044814595684981\n",
      "Features  5 and 18 are strongly correlated. Value: 0.9656283889163993\n",
      "Features  16 and 5 are strongly correlated. Value: 0.9044814595684981\n",
      "Features  16 and 18 are strongly correlated. Value: 0.8844128574100243\n",
      "Features  17 and 18 are strongly correlated. Value: 0.8043255943442028\n",
      "Features  18 and 2 are strongly correlated. Value: 0.8086162641281681\n",
      "Features  18 and 5 are strongly correlated. Value: 0.9656283889163995\n",
      "Features  18 and 16 are strongly correlated. Value: 0.8844128574100243\n",
      "Features  18 and 17 are strongly correlated. Value: 0.8043255943442027\n"
     ]
    }
   ],
   "source": [
    "#find correlation between the features\n",
    "corr_thr = 8e-1\n",
    "corr = np.absolute(np.corrcoef(tX_red_f.T))\n",
    "bool_cor = np.greater(corr,corr_thr)\n",
    "f1,f2 = np.where(bool_cor)\n",
    "#print(f1,f2)\n",
    "for i in range(len(f1)):\n",
    "    if ~(f1[i] == f2[i]):\n",
    "        corr_val = corr[f1[i],f2[i]]\n",
    "        print(f\"Features \",f1[i],\"and\",f2[i],\"are strongly correlated. Value:\",corr_val)"
   ]
  },
  {
   "cell_type": "markdown",
   "metadata": {},
   "source": [
    "Very strong corr between features 5,16,18 **The three features can be replaced by just feature 5**\n",
    "\n",
    "additional corr between features 2 and 5,18 **2 can also be removed to just keep 5**"
   ]
  },
  {
   "cell_type": "code",
   "execution_count": 12,
   "metadata": {},
   "outputs": [],
   "source": [
    "f_to_remove = np.array([2,16,18])"
   ]
  },
  {
   "cell_type": "code",
   "execution_count": 13,
   "metadata": {},
   "outputs": [
    {
     "data": {
      "text/plain": [
       "(250000, 16)"
      ]
     },
     "execution_count": 13,
     "metadata": {},
     "output_type": "execute_result"
    }
   ],
   "source": [
    "#delete the selected features\n",
    "tX = np.delete(tX_red_f,f_to_remove,1)\n",
    "np.shape(tX)"
   ]
  },
  {
   "cell_type": "markdown",
   "metadata": {},
   "source": [
    "## Next step"
   ]
  },
  {
   "cell_type": "code",
   "execution_count": 49,
   "metadata": {},
   "outputs": [],
   "source": [
    "N = np.shape(tX)[0]\n",
    "np.arange(N)\n",
    "choice = np.random.choice(N,size=1000)\n",
    "new_tX = tX[choice, :]\n",
    "new_y = y[choice]"
   ]
  },
  {
   "cell_type": "markdown",
   "metadata": {},
   "source": [
    "## Running ML"
   ]
  },
  {
   "cell_type": "code",
   "execution_count": 50,
   "metadata": {},
   "outputs": [
    {
     "data": {
      "text/plain": [
       "(array([ 1., -1., -1., ...,  1., -1., -1.]),\n",
       " array([[ 51.655,  97.827,   3.064, ...,  16.824,  -0.277,   2.   ],\n",
       "        [ 68.768, 103.235,   3.473, ...,  44.704,  -1.916,   1.   ],\n",
       "        [162.172, 125.953,   3.148, ...,  54.283,  -2.186,   1.   ],\n",
       "        ...,\n",
       "        [ 60.526,  75.839,   2.39 , ...,  23.419,  -2.89 ,   1.   ],\n",
       "        [ 19.362,  68.812,   3.365, ...,  12.15 ,   0.811,   0.   ],\n",
       "        [ 72.756,  70.831,   2.025, ...,  40.729,  -1.596,   0.   ]]),\n",
       " array([100000, 100001, 100002, ..., 349997, 349998, 349999]))"
      ]
     },
     "execution_count": 50,
     "metadata": {},
     "output_type": "execute_result"
    }
   ],
   "source": [
    "y, tX, ids"
   ]
  },
  {
   "cell_type": "code",
   "execution_count": 67,
   "metadata": {},
   "outputs": [
    {
     "data": {
      "text/plain": [
       "(1000,)"
      ]
     },
     "execution_count": 67,
     "metadata": {},
     "output_type": "execute_result"
    }
   ],
   "source": [
    "np.shape(new_y)"
   ]
  },
  {
   "cell_type": "code",
   "execution_count": 51,
   "metadata": {},
   "outputs": [],
   "source": [
    "def sigmoid(t):\n",
    "    \"\"\"apply the sigmoid function on t.\"\"\"\n",
    "    return 1.0 / (1+np.exp(-t))"
   ]
  },
  {
   "cell_type": "code",
   "execution_count": 52,
   "metadata": {
    "tags": []
   },
   "outputs": [],
   "source": [
    "def calculate_loss(y, tx, w):\n",
    "    \"\"\"compute the loss: negative log likelihood.\"\"\"\n",
    "    sigma = sigmoid(tx.dot(w))\n",
    "    loss = (y.T.dot(np.log(sigma)) + (1-y).T.dot(np.log(1-sigma)))\n",
    "    return np.squeeze(-1*loss)"
   ]
  },
  {
   "cell_type": "code",
   "execution_count": 53,
   "metadata": {
    "tags": []
   },
   "outputs": [],
   "source": [
    "def calculate_gradient(y, tx, w):\n",
    "    \"\"\"compute the gradient of loss.\"\"\"\n",
    "    sigma = sigmoid(tx.dot(w))\n",
    "    return tx.T.dot(sigma - y)"
   ]
  },
  {
   "cell_type": "code",
   "execution_count": 61,
   "metadata": {
    "tags": []
   },
   "outputs": [],
   "source": [
    "def calculate_hessian(y, tx, w):\n",
    "    \"\"\"return the Hessian of the loss function.\"\"\"\n",
    "    sigma = sigmoid(tx.dot(w))\n",
    "    S = np.multiply(sigma,(1-sigma))\n",
    "    S = np.diag(S.T[0])\n",
    "    return tx.T.dot(S).dot(tx)\n",
    "    raise NotImplementedError"
   ]
  },
  {
   "cell_type": "code",
   "execution_count": 62,
   "metadata": {
    "tags": []
   },
   "outputs": [],
   "source": [
    "def penalized_logistic_regression(y, tx, w, lambda_):\n",
    "    \"\"\"return the loss, gradient\"\"\"\n",
    "    loss = calculate_loss(y,tx,w) + lambda_*w.T.dot(w)\n",
    "    grad = calculate_gradient(y,tx,w) + 2*lambda_*w\n",
    "    hess = calculate_hessian(y,tx,w)\n",
    "    return loss, grad, hess\n",
    "    raise NotImplementedError"
   ]
  },
  {
   "cell_type": "code",
   "execution_count": 63,
   "metadata": {
    "tags": []
   },
   "outputs": [],
   "source": [
    "def learning_by_penalized_gradient(y, tx, w, gamma, lambda_):\n",
    "    \"\"\"\n",
    "    Do one step of gradient descent, using the penalized logistic regression.\n",
    "    Return the loss and updated w.\n",
    "    \"\"\"\n",
    "    loss, grad, hess = penalized_logistic_regression(y, tx, w, lambda_)\n",
    "    w = w - gamma * grad\n",
    "    return loss, w"
   ]
  },
  {
   "cell_type": "code",
   "execution_count": 68,
   "metadata": {},
   "outputs": [
    {
     "name": "stdout",
     "output_type": "stream",
     "text": [
      "Current iteration=0, loss=[[693.14718056]]\n"
     ]
    },
    {
     "name": "stderr",
     "output_type": "stream",
     "text": [
      "/tmp/ipykernel_457/1417711890.py:3: RuntimeWarning: overflow encountered in exp\n",
      "  return 1.0 / (1+np.exp(-t))\n",
      "/tmp/ipykernel_457/1390517956.py:4: RuntimeWarning: divide by zero encountered in log\n",
      "  loss = (y.T.dot(np.log(sigma)) + (1-y).T.dot(np.log(1-sigma)))\n"
     ]
    },
    {
     "ename": "ValueError",
     "evalue": "The truth value of an array with more than one element is ambiguous. Use a.any() or a.all()",
     "output_type": "error",
     "traceback": [
      "\u001b[0;31m---------------------------------------------------------------------------\u001b[0m",
      "\u001b[0;31mValueError\u001b[0m                                Traceback (most recent call last)",
      "\u001b[0;32m/tmp/ipykernel_457/3267254052.py\u001b[0m in \u001b[0;36m<module>\u001b[0;34m\u001b[0m\n\u001b[1;32m     26\u001b[0m     \u001b[0mprint\u001b[0m\u001b[0;34m(\u001b[0m\u001b[0;34m\"loss={l}\"\u001b[0m\u001b[0;34m.\u001b[0m\u001b[0mformat\u001b[0m\u001b[0;34m(\u001b[0m\u001b[0ml\u001b[0m\u001b[0;34m=\u001b[0m\u001b[0mcalculate_loss\u001b[0m\u001b[0;34m(\u001b[0m\u001b[0my\u001b[0m\u001b[0;34m,\u001b[0m \u001b[0mtx\u001b[0m\u001b[0;34m,\u001b[0m \u001b[0mw\u001b[0m\u001b[0;34m)\u001b[0m\u001b[0;34m)\u001b[0m\u001b[0;34m)\u001b[0m\u001b[0;34m\u001b[0m\u001b[0;34m\u001b[0m\u001b[0m\n\u001b[1;32m     27\u001b[0m \u001b[0;34m\u001b[0m\u001b[0m\n\u001b[0;32m---> 28\u001b[0;31m \u001b[0mlogistic_regression_penalized_gradient_descent_demo\u001b[0m\u001b[0;34m(\u001b[0m\u001b[0mnew_y\u001b[0m\u001b[0;34m,\u001b[0m \u001b[0mnew_tX\u001b[0m\u001b[0;34m)\u001b[0m\u001b[0;34m\u001b[0m\u001b[0;34m\u001b[0m\u001b[0m\n\u001b[0m",
      "\u001b[0;32m/tmp/ipykernel_457/3267254052.py\u001b[0m in \u001b[0;36mlogistic_regression_penalized_gradient_descent_demo\u001b[0;34m(y, x)\u001b[0m\n\u001b[1;32m     20\u001b[0m         \u001b[0;31m# converge criterion\u001b[0m\u001b[0;34m\u001b[0m\u001b[0;34m\u001b[0m\u001b[0;34m\u001b[0m\u001b[0m\n\u001b[1;32m     21\u001b[0m         \u001b[0mlosses\u001b[0m\u001b[0;34m.\u001b[0m\u001b[0mappend\u001b[0m\u001b[0;34m(\u001b[0m\u001b[0mloss\u001b[0m\u001b[0;34m)\u001b[0m\u001b[0;34m\u001b[0m\u001b[0;34m\u001b[0m\u001b[0m\n\u001b[0;32m---> 22\u001b[0;31m         \u001b[0;32mif\u001b[0m \u001b[0mlen\u001b[0m\u001b[0;34m(\u001b[0m\u001b[0mlosses\u001b[0m\u001b[0;34m)\u001b[0m \u001b[0;34m>\u001b[0m \u001b[0;36m1\u001b[0m \u001b[0;32mand\u001b[0m \u001b[0mnp\u001b[0m\u001b[0;34m.\u001b[0m\u001b[0mabs\u001b[0m\u001b[0;34m(\u001b[0m\u001b[0mlosses\u001b[0m\u001b[0;34m[\u001b[0m\u001b[0;34m-\u001b[0m\u001b[0;36m1\u001b[0m\u001b[0;34m]\u001b[0m \u001b[0;34m-\u001b[0m \u001b[0mlosses\u001b[0m\u001b[0;34m[\u001b[0m\u001b[0;34m-\u001b[0m\u001b[0;36m2\u001b[0m\u001b[0;34m]\u001b[0m\u001b[0;34m)\u001b[0m \u001b[0;34m<\u001b[0m \u001b[0mthreshold\u001b[0m\u001b[0;34m:\u001b[0m\u001b[0;34m\u001b[0m\u001b[0;34m\u001b[0m\u001b[0m\n\u001b[0m\u001b[1;32m     23\u001b[0m             \u001b[0;32mbreak\u001b[0m\u001b[0;34m\u001b[0m\u001b[0;34m\u001b[0m\u001b[0m\n\u001b[1;32m     24\u001b[0m     \u001b[0;31m# visualization\u001b[0m\u001b[0;34m\u001b[0m\u001b[0;34m\u001b[0m\u001b[0;34m\u001b[0m\u001b[0m\n",
      "\u001b[0;31mValueError\u001b[0m: The truth value of an array with more than one element is ambiguous. Use a.any() or a.all()"
     ]
    }
   ],
   "source": [
    "def logistic_regression_penalized_gradient_descent_demo(y, x):\n",
    "    # init parameters\n",
    "    max_iter = 10000\n",
    "    gamma = 0.01\n",
    "    lambda_ = 0.1\n",
    "    threshold = 1e-8\n",
    "    losses = []\n",
    "\n",
    "    # build tx\n",
    "    tx = np.c_[np.ones((y.shape[0], 1)), x]\n",
    "    w = np.zeros((tx.shape[1], 1))\n",
    "\n",
    "    # start the logistic regression\n",
    "    for iter in range(max_iter):\n",
    "        # get loss and update w.\n",
    "        loss, w = learning_by_penalized_gradient(y, tx, w, gamma, lambda_)\n",
    "        # log info\n",
    "        if iter % 100 == 0:\n",
    "            print(\"Current iteration={i}, loss={l}\".format(i=iter, l=loss))\n",
    "        # converge criterion\n",
    "        losses.append(loss)\n",
    "        if len(losses) > 1 and np.abs(losses[-1] - losses[-2]) < threshold:\n",
    "            break\n",
    "    # visualization\n",
    "    visualization(y, x, mean_x, std_x, w, \"classification_by_logistic_regression_penalized_gradient_descent\",True)\n",
    "    print(\"loss={l}\".format(l=calculate_loss(y, tx, w)))\n",
    "    \n",
    "logistic_regression_penalized_gradient_descent_demo(new_y, new_tX)"
   ]
  },
  {
   "cell_type": "code",
   "execution_count": null,
   "metadata": {},
   "outputs": [],
   "source": [
    "# Group data\n",
    "\n",
    "\n",
    "# Imputation Using Zero/Constant Values\n",
    "tx = np.where(tX==-999, 0, tX) "
   ]
  },
  {
   "cell_type": "code",
   "execution_count": null,
   "metadata": {},
   "outputs": [],
   "source": [
    "# Linear regression using gradient descent\n",
    "from implementations import *\n",
    "\n",
    "# Define the parameters of the algorithm.\n",
    "max_iters = 50\n",
    "gamma = 3 # use linspace to test various gamma values and look for the best ?\n",
    "\n",
    "# Initialization\n",
    "initial_w = np.zeros(tx.shape[1]+1)\n",
    "tx_offset = np.empty([tx.shape[0], tx.shape[1]+1])\n",
    "tx_offset[:, 0] = np.ones([tx.shape[0]]) \n",
    "tx_offset[:, 1:] = tx\n",
    "loss_GD, w_GD = least_squares_GD(y, tx_offset, initial_w, max_iters, gamma)\n",
    "\n",
    "print(\"Gradient Descent: loss={l}, w = {w}\".format(\n",
    "    l=loss_GD, w=w_GD))\n"
   ]
  },
  {
   "cell_type": "code",
   "execution_count": null,
   "metadata": {},
   "outputs": [],
   "source": [
    "# Linear regression using stochastic gradient descent\n",
    "\n",
    "# Define the parameters of the algorithm.\n",
    "max_iters = 50\n",
    "gamma = 3 # use linspace to test various gamma values and look for the best ?\n",
    "\n",
    "# Initialization\n",
    "# initial_w = np.zeros(tx.shape[1]+1)\n",
    "# tx_offset = np.empty([tx.shape[0], tx.shape[1]+1])\n",
    "# tx_offset[:, 0] = np.ones([tx.shape[0]]) \n",
    "# tx_offset[:, 1:] = tx\n",
    "loss_GD, w_GD = least_squares_SGD(y, tx_offset, initial_w, max_iters, gamma)\n",
    "\n",
    "print(\"Stochastic Gradient Descent: loss={l}, w = {w}\".format(\n",
    "    l=loss_GD, w=w_GD))"
   ]
  },
  {
   "cell_type": "markdown",
   "metadata": {},
   "source": [
    "## Generate predictions and save ouput in csv format for submission:"
   ]
  },
  {
   "cell_type": "code",
   "execution_count": null,
   "metadata": {
    "collapsed": false,
    "jupyter": {
     "outputs_hidden": false
    }
   },
   "outputs": [],
   "source": [
    "DATA_TEST_PATH = '' # TODO: download train data and supply path here \n",
    "_, tX_test, ids_test = load_csv_data(DATA_TEST_PATH)"
   ]
  },
  {
   "cell_type": "code",
   "execution_count": null,
   "metadata": {
    "collapsed": false,
    "jupyter": {
     "outputs_hidden": false
    }
   },
   "outputs": [],
   "source": [
    "OUTPUT_PATH = '' # TODO: fill in desired name of output file for submission\n",
    "y_pred = predict_labels(weights, tX_test)\n",
    "create_csv_submission(ids_test, y_pred, OUTPUT_PATH)"
   ]
  },
  {
   "cell_type": "code",
   "execution_count": null,
   "metadata": {
    "collapsed": true,
    "jupyter": {
     "outputs_hidden": true
    }
   },
   "outputs": [],
   "source": []
  }
 ],
 "metadata": {
  "anaconda-cloud": {},
  "kernelspec": {
   "display_name": "Python",
   "language": "python",
   "name": "python3"
  },
  "language_info": {
   "codemirror_mode": {
    "name": "ipython",
    "version": 3
   },
   "file_extension": ".py",
   "mimetype": "text/x-python",
   "name": "python",
   "nbconvert_exporter": "python",
   "pygments_lexer": "ipython3",
   "version": "3.8.10"
  }
 },
 "nbformat": 4,
 "nbformat_minor": 4
}
