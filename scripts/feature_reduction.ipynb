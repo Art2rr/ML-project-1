{
 "cells": [
  {
   "cell_type": "code",
   "execution_count": 1,
   "metadata": {
    "tags": []
   },
   "outputs": [],
   "source": [
    "# Useful starting lines\n",
    "%matplotlib inline\n",
    "import numpy as np\n",
    "import matplotlib.pyplot as plt\n",
    "%load_ext autoreload\n",
    "%autoreload 2"
   ]
  },
  {
   "cell_type": "markdown",
   "metadata": {},
   "source": [
    "## Load the training data into feature matrix, class labels, and event ids:"
   ]
  },
  {
   "cell_type": "code",
   "execution_count": 2,
   "metadata": {
    "collapsed": false,
    "jupyter": {
     "outputs_hidden": false
    }
   },
   "outputs": [],
   "source": [
    "from proj1_helpers import *\n",
    "DATA_TRAIN_PATH = './train.csv' # TODO: download train data and supply path here \n",
    "y, tX, ids = load_csv_data(DATA_TRAIN_PATH)"
   ]
  },
  {
   "cell_type": "markdown",
   "metadata": {},
   "source": [
    "## Do your thing crazy machine learning thing here :) ..."
   ]
  },
  {
   "cell_type": "code",
   "execution_count": 3,
   "metadata": {},
   "outputs": [
    {
     "data": {
      "text/plain": [
       "(250000, 30)"
      ]
     },
     "execution_count": 3,
     "metadata": {},
     "output_type": "execute_result"
    }
   ],
   "source": [
    "np.shape(tX)\n",
    "#np.shape(y)"
   ]
  },
  {
   "cell_type": "code",
   "execution_count": 4,
   "metadata": {},
   "outputs": [
    {
     "data": {
      "text/plain": [
       "array([False])"
      ]
     },
     "execution_count": 4,
     "metadata": {},
     "output_type": "execute_result"
    }
   ],
   "source": [
    "#check for any NaN values\n",
    "nans = np.isnan(tX)\n",
    "np.unique(nans)"
   ]
  },
  {
   "cell_type": "markdown",
   "metadata": {
    "tags": []
   },
   "source": [
    "## Feature reduction"
   ]
  },
  {
   "cell_type": "markdown",
   "metadata": {
    "tags": []
   },
   "source": [
    "### Removing features that are mostly one value"
   ]
  },
  {
   "cell_type": "code",
   "execution_count": 5,
   "metadata": {},
   "outputs": [],
   "source": [
    "def f_too_many_values(tX,val=-999):\n",
    "    #there is a lot of -999 values in the data\n",
    "    #count the occurences for each feature\n",
    "    f_to_remove = []\n",
    "    for f in range(np.shape(tX)[1]):\n",
    "        #print(tX[:,f])\n",
    "        unique, counts = np.unique(tX[:,f], return_counts=True)\n",
    "        count_dic = dict(zip(unique, counts))\n",
    "        if val in count_dic:\n",
    "            nb_999 = count_dic[val]\n",
    "            nb_tot = np.shape(tX)[0]\n",
    "            print(f\"feature: \",f)\n",
    "            per = (nb_999/nb_tot)*100\n",
    "            print(f\"number of \", val,\" values\",nb_999,\"which is\",per,\"%\")\n",
    "            if per > 10:\n",
    "                f_to_remove.append(f)\n",
    "    print(f\"to remove\",f_to_remove)\n",
    "    return f_to_remove"
   ]
  },
  {
   "cell_type": "code",
   "execution_count": 6,
   "metadata": {},
   "outputs": [
    {
     "name": "stdout",
     "output_type": "stream",
     "text": [
      "feature:  0\n",
      "number of  -999  values 38114 which is 15.245600000000001 %\n",
      "feature:  4\n",
      "number of  -999  values 177457 which is 70.9828 %\n",
      "feature:  5\n",
      "number of  -999  values 177457 which is 70.9828 %\n",
      "feature:  6\n",
      "number of  -999  values 177457 which is 70.9828 %\n",
      "feature:  12\n",
      "number of  -999  values 177457 which is 70.9828 %\n",
      "feature:  23\n",
      "number of  -999  values 99913 which is 39.9652 %\n",
      "feature:  24\n",
      "number of  -999  values 99913 which is 39.9652 %\n",
      "feature:  25\n",
      "number of  -999  values 99913 which is 39.9652 %\n",
      "feature:  26\n",
      "number of  -999  values 177457 which is 70.9828 %\n",
      "feature:  27\n",
      "number of  -999  values 177457 which is 70.9828 %\n",
      "feature:  28\n",
      "number of  -999  values 177457 which is 70.9828 %\n",
      "to remove [0, 4, 5, 6, 12, 23, 24, 25, 26, 27, 28]\n"
     ]
    },
    {
     "data": {
      "text/plain": [
       "[0, 4, 5, 6, 12, 23, 24, 25, 26, 27, 28]"
      ]
     },
     "execution_count": 6,
     "metadata": {},
     "output_type": "execute_result"
    }
   ],
   "source": [
    "#f_too_many_values(-999)"
   ]
  },
  {
   "cell_type": "code",
   "execution_count": 7,
   "metadata": {},
   "outputs": [
    {
     "name": "stdout",
     "output_type": "stream",
     "text": [
      "feature:  0\n",
      "number of -999 values 38114 which is 15.245600000000001 %\n",
      "feature:  4\n",
      "number of -999 values 177457 which is 70.9828 %\n",
      "feature:  5\n",
      "number of -999 values 177457 which is 70.9828 %\n",
      "feature:  6\n",
      "number of -999 values 177457 which is 70.9828 %\n",
      "feature:  12\n",
      "number of -999 values 177457 which is 70.9828 %\n",
      "feature:  23\n",
      "number of -999 values 99913 which is 39.9652 %\n",
      "feature:  24\n",
      "number of -999 values 99913 which is 39.9652 %\n",
      "feature:  25\n",
      "number of -999 values 99913 which is 39.9652 %\n",
      "feature:  26\n",
      "number of -999 values 177457 which is 70.9828 %\n",
      "feature:  27\n",
      "number of -999 values 177457 which is 70.9828 %\n",
      "feature:  28\n",
      "number of -999 values 177457 which is 70.9828 %\n",
      "to remove [0, 4, 5, 6, 12, 23, 24, 25, 26, 27, 28]\n"
     ]
    }
   ],
   "source": [
    "#there is a lot of -999 values in the data\n",
    "#count the occurences for each feature\n",
    "f_to_remove = []\n",
    "for f in range(np.shape(tX)[1]):\n",
    "    #print(tX[:,f])\n",
    "    unique, counts = np.unique(tX[:,f], return_counts=True)\n",
    "    count_dic = dict(zip(unique, counts))\n",
    "    if -999 in count_dic:\n",
    "        nb_999 = count_dic[-999]\n",
    "        nb_tot = np.shape(tX)[0]\n",
    "        print(f\"feature: \",f)\n",
    "        per = (nb_999/nb_tot)*100\n",
    "        print(f\"number of -999 values\",nb_999,\"which is\",per,\"%\")\n",
    "        if per > 10:\n",
    "            f_to_remove.append(f)\n",
    "print(f\"to remove\",f_to_remove)"
   ]
  },
  {
   "cell_type": "code",
   "execution_count": 8,
   "metadata": {},
   "outputs": [
    {
     "data": {
      "text/plain": [
       "(250000, 19)"
      ]
     },
     "execution_count": 8,
     "metadata": {},
     "output_type": "execute_result"
    }
   ],
   "source": [
    "#delete the selected features\n",
    "tX_red_f = np.delete(tX,f_to_remove,1)\n",
    "np.shape(tX_red_f)"
   ]
  },
  {
   "cell_type": "markdown",
   "metadata": {
    "tags": []
   },
   "source": [
    "### Checking feature similarity"
   ]
  },
  {
   "cell_type": "code",
   "execution_count": 9,
   "metadata": {},
   "outputs": [
    {
     "data": {
      "text/plain": [
       "(250000, 19)"
      ]
     },
     "execution_count": 9,
     "metadata": {},
     "output_type": "execute_result"
    }
   ],
   "source": [
    "np.shape(tX_red_f)"
   ]
  },
  {
   "cell_type": "code",
   "execution_count": 18,
   "metadata": {},
   "outputs": [],
   "source": [
    "def f_corr(corr_thr):\n",
    "    #find correlation between the features\n",
    "    #corr_thr = 8e-1\n",
    "    corr = np.absolute(np.corrcoef(tX_red_f.T))\n",
    "    bool_cor = np.greater(corr,corr_thr)\n",
    "    f1,f2 = np.where(bool_cor)\n",
    "    for i in range(len(f1)):\n",
    "        if ~(f1[i] == f2[i]):\n",
    "            corr_val = corr[f1[i],f2[i]]\n",
    "            print(f\"Features \",f1[i],\"and\",f2[i],\"are strongly correlated. Value:\",corr_val)"
   ]
  },
  {
   "cell_type": "code",
   "execution_count": 10,
   "metadata": {},
   "outputs": [
    {
     "name": "stdout",
     "output_type": "stream",
     "text": [
      "Features  2 and 5 are strongly correlated. Value: 0.8327330666331234\n",
      "Features  2 and 18 are strongly correlated. Value: 0.8086162641281681\n",
      "Features  5 and 2 are strongly correlated. Value: 0.8327330666331234\n",
      "Features  5 and 16 are strongly correlated. Value: 0.9044814595684981\n",
      "Features  5 and 18 are strongly correlated. Value: 0.9656283889163993\n",
      "Features  16 and 5 are strongly correlated. Value: 0.9044814595684981\n",
      "Features  16 and 18 are strongly correlated. Value: 0.8844128574100243\n",
      "Features  17 and 18 are strongly correlated. Value: 0.8043255943442028\n",
      "Features  18 and 2 are strongly correlated. Value: 0.8086162641281681\n",
      "Features  18 and 5 are strongly correlated. Value: 0.9656283889163995\n",
      "Features  18 and 16 are strongly correlated. Value: 0.8844128574100243\n",
      "Features  18 and 17 are strongly correlated. Value: 0.8043255943442027\n"
     ]
    }
   ],
   "source": [
    "#find correlation between the features\n",
    "corr_thr = 8e-1\n",
    "corr = np.absolute(np.corrcoef(tX_red_f.T))\n",
    "bool_cor = np.greater(corr,corr_thr)\n",
    "f1,f2 = np.where(bool_cor)\n",
    "#print(f1,f2)\n",
    "for i in range(len(f1)):\n",
    "    if ~(f1[i] == f2[i]):\n",
    "        corr_val = corr[f1[i],f2[i]]\n",
    "        print(f\"Features \",f1[i],\"and\",f2[i],\"are strongly correlated. Value:\",corr_val)"
   ]
  },
  {
   "cell_type": "markdown",
   "metadata": {},
   "source": [
    "Very strong corr between features 5,16,18 **The three features can be replaced by just feature 5**\n",
    "\n",
    "additional corr between features 2 and 5,18 **2 can also be removed to just keep 5**"
   ]
  },
  {
   "cell_type": "code",
   "execution_count": 11,
   "metadata": {},
   "outputs": [],
   "source": [
    "f_to_remove = np.array([2,16,18])"
   ]
  },
  {
   "cell_type": "code",
   "execution_count": 12,
   "metadata": {},
   "outputs": [
    {
     "data": {
      "text/plain": [
       "(250000, 16)"
      ]
     },
     "execution_count": 12,
     "metadata": {},
     "output_type": "execute_result"
    }
   ],
   "source": [
    "#delete the selected features\n",
    "tX = np.delete(tX_red_f,f_to_remove,1)\n",
    "np.shape(tX)"
   ]
  },
  {
   "cell_type": "markdown",
   "metadata": {},
   "source": [
    "## Next step"
   ]
  },
  {
   "cell_type": "code",
   "execution_count": 13,
   "metadata": {},
   "outputs": [
    {
     "data": {
      "text/plain": [
       "(array([ 1., -1., -1., ...,  1., -1., -1.]),\n",
       " array([[ 51.655,  97.827,   3.064, ...,  16.824,  -0.277,   2.   ],\n",
       "        [ 68.768, 103.235,   3.473, ...,  44.704,  -1.916,   1.   ],\n",
       "        [162.172, 125.953,   3.148, ...,  54.283,  -2.186,   1.   ],\n",
       "        ...,\n",
       "        [ 60.526,  75.839,   2.39 , ...,  23.419,  -2.89 ,   1.   ],\n",
       "        [ 19.362,  68.812,   3.365, ...,  12.15 ,   0.811,   0.   ],\n",
       "        [ 72.756,  70.831,   2.025, ...,  40.729,  -1.596,   0.   ]]),\n",
       " array([100000, 100001, 100002, ..., 349997, 349998, 349999]))"
      ]
     },
     "execution_count": 13,
     "metadata": {},
     "output_type": "execute_result"
    }
   ],
   "source": [
    "y, tX, ids"
   ]
  },
  {
   "cell_type": "code",
   "execution_count": 14,
   "metadata": {},
   "outputs": [],
   "source": [
    "# Group data\n",
    "\n",
    "\n",
    "# Imputation Using Zero/Constant Values\n",
    "tx = np.where(tX==-999, 0, tX) "
   ]
  },
  {
   "cell_type": "code",
   "execution_count": 15,
   "metadata": {},
   "outputs": [
    {
     "name": "stdout",
     "output_type": "stream",
     "text": [
      "Gradient Descent: loss=inf, w = [ 8.52653224e+253  4.15006558e+255  7.38025368e+255  1.89342813e+254\n",
      "  2.01988205e+255  1.88476333e+256  1.28455718e+254  9.54519055e+252\n",
      "  3.84753874e+255 -8.30154509e+251 -3.95830594e+251  4.54288660e+255\n",
      " -1.18637304e+252  3.52802235e+252  4.40636596e+255 -4.23968429e+251\n",
      "  1.16216242e+254]\n"
     ]
    }
   ],
   "source": [
    "# Linear regression using gradient descent\n",
    "from implementations import *\n",
    "\n",
    "# Define the parameters of the algorithm.\n",
    "max_iters = 50\n",
    "gamma = 3 # use linspace to test various gamma values and look for the best ?\n",
    "\n",
    "# Initialization\n",
    "initial_w = np.zeros(tx.shape[1]+1)\n",
    "tx_offset = np.empty([tx.shape[0], tx.shape[1]+1])\n",
    "tx_offset[:, 0] = np.ones([tx.shape[0]]) \n",
    "tx_offset[:, 1:] = tx\n",
    "loss_GD, w_GD = least_squares_GD(y, tx_offset, initial_w, max_iters, gamma)\n",
    "\n",
    "print(\"Gradient Descent: loss={l}, w = {w}\".format(\n",
    "    l=loss_GD, w=w_GD))\n"
   ]
  },
  {
   "cell_type": "code",
   "execution_count": 16,
   "metadata": {},
   "outputs": [
    {
     "name": "stdout",
     "output_type": "stream",
     "text": [
      "Stochastic Gradient Descent: loss=inf, w = [array([0., 0., 0., 0., 0., 0., 0., 0., 0., 0., 0., 0., 0., 0., 0., 0., 0.])]\n"
     ]
    }
   ],
   "source": [
    "# Linear regression using stochastic gradient descent\n",
    "\n",
    "# Define the parameters of the algorithm.\n",
    "max_iters = 50\n",
    "gamma = 3 # use linspace to test various gamma values and look for the best ?\n",
    "\n",
    "# Initialization\n",
    "# initial_w = np.zeros(tx.shape[1]+1)\n",
    "# tx_offset = np.empty([tx.shape[0], tx.shape[1]+1])\n",
    "# tx_offset[:, 0] = np.ones([tx.shape[0]]) \n",
    "# tx_offset[:, 1:] = tx\n",
    "loss_GD, w_GD = least_squares_SGD(y, tx_offset, initial_w, max_iters, gamma)\n",
    "\n",
    "print(\"Stochastic Gradient Descent: loss={l}, w = {w}\".format(\n",
    "    l=loss_GD, w=w_GD))"
   ]
  },
  {
   "cell_type": "markdown",
   "metadata": {},
   "source": [
    "## Generate predictions and save ouput in csv format for submission:"
   ]
  },
  {
   "cell_type": "code",
   "execution_count": 17,
   "metadata": {
    "collapsed": false,
    "jupyter": {
     "outputs_hidden": false
    }
   },
   "outputs": [
    {
     "ename": "OSError",
     "evalue": " not found.",
     "output_type": "error",
     "traceback": [
      "\u001b[0;31m---------------------------------------------------------------------------\u001b[0m",
      "\u001b[0;31mOSError\u001b[0m                                   Traceback (most recent call last)",
      "\u001b[0;32m/tmp/ipykernel_104/2767638011.py\u001b[0m in \u001b[0;36m<module>\u001b[0;34m\u001b[0m\n\u001b[1;32m      1\u001b[0m \u001b[0mDATA_TEST_PATH\u001b[0m \u001b[0;34m=\u001b[0m \u001b[0;34m''\u001b[0m \u001b[0;31m# TODO: download train data and supply path here\u001b[0m\u001b[0;34m\u001b[0m\u001b[0;34m\u001b[0m\u001b[0m\n\u001b[0;32m----> 2\u001b[0;31m \u001b[0m_\u001b[0m\u001b[0;34m,\u001b[0m \u001b[0mtX_test\u001b[0m\u001b[0;34m,\u001b[0m \u001b[0mids_test\u001b[0m \u001b[0;34m=\u001b[0m \u001b[0mload_csv_data\u001b[0m\u001b[0;34m(\u001b[0m\u001b[0mDATA_TEST_PATH\u001b[0m\u001b[0;34m)\u001b[0m\u001b[0;34m\u001b[0m\u001b[0;34m\u001b[0m\u001b[0m\n\u001b[0m",
      "\u001b[0;32m~/Machine Learning EX/project_1 _stuff/proj1_helpers.py\u001b[0m in \u001b[0;36mload_csv_data\u001b[0;34m(data_path, sub_sample)\u001b[0m\n\u001b[1;32m      6\u001b[0m \u001b[0;32mdef\u001b[0m \u001b[0mload_csv_data\u001b[0m\u001b[0;34m(\u001b[0m\u001b[0mdata_path\u001b[0m\u001b[0;34m,\u001b[0m \u001b[0msub_sample\u001b[0m\u001b[0;34m=\u001b[0m\u001b[0;32mFalse\u001b[0m\u001b[0;34m)\u001b[0m\u001b[0;34m:\u001b[0m\u001b[0;34m\u001b[0m\u001b[0;34m\u001b[0m\u001b[0m\n\u001b[1;32m      7\u001b[0m     \u001b[0;34m\"\"\"Loads data and returns y (class labels), tX (features) and ids (event ids)\"\"\"\u001b[0m\u001b[0;34m\u001b[0m\u001b[0;34m\u001b[0m\u001b[0m\n\u001b[0;32m----> 8\u001b[0;31m     \u001b[0my\u001b[0m \u001b[0;34m=\u001b[0m \u001b[0mnp\u001b[0m\u001b[0;34m.\u001b[0m\u001b[0mgenfromtxt\u001b[0m\u001b[0;34m(\u001b[0m\u001b[0mdata_path\u001b[0m\u001b[0;34m,\u001b[0m \u001b[0mdelimiter\u001b[0m\u001b[0;34m=\u001b[0m\u001b[0;34m\",\"\u001b[0m\u001b[0;34m,\u001b[0m \u001b[0mskip_header\u001b[0m\u001b[0;34m=\u001b[0m\u001b[0;36m1\u001b[0m\u001b[0;34m,\u001b[0m \u001b[0mdtype\u001b[0m\u001b[0;34m=\u001b[0m\u001b[0mstr\u001b[0m\u001b[0;34m,\u001b[0m \u001b[0musecols\u001b[0m\u001b[0;34m=\u001b[0m\u001b[0;36m1\u001b[0m\u001b[0;34m)\u001b[0m\u001b[0;34m\u001b[0m\u001b[0;34m\u001b[0m\u001b[0m\n\u001b[0m\u001b[1;32m      9\u001b[0m     \u001b[0mx\u001b[0m \u001b[0;34m=\u001b[0m \u001b[0mnp\u001b[0m\u001b[0;34m.\u001b[0m\u001b[0mgenfromtxt\u001b[0m\u001b[0;34m(\u001b[0m\u001b[0mdata_path\u001b[0m\u001b[0;34m,\u001b[0m \u001b[0mdelimiter\u001b[0m\u001b[0;34m=\u001b[0m\u001b[0;34m\",\"\u001b[0m\u001b[0;34m,\u001b[0m \u001b[0mskip_header\u001b[0m\u001b[0;34m=\u001b[0m\u001b[0;36m1\u001b[0m\u001b[0;34m)\u001b[0m\u001b[0;34m\u001b[0m\u001b[0;34m\u001b[0m\u001b[0m\n\u001b[1;32m     10\u001b[0m     \u001b[0mids\u001b[0m \u001b[0;34m=\u001b[0m \u001b[0mx\u001b[0m\u001b[0;34m[\u001b[0m\u001b[0;34m:\u001b[0m\u001b[0;34m,\u001b[0m \u001b[0;36m0\u001b[0m\u001b[0;34m]\u001b[0m\u001b[0;34m.\u001b[0m\u001b[0mastype\u001b[0m\u001b[0;34m(\u001b[0m\u001b[0mnp\u001b[0m\u001b[0;34m.\u001b[0m\u001b[0mint\u001b[0m\u001b[0;34m)\u001b[0m\u001b[0;34m\u001b[0m\u001b[0;34m\u001b[0m\u001b[0m\n",
      "\u001b[0;32m/usr/local/lib/python3.8/dist-packages/numpy/lib/npyio.py\u001b[0m in \u001b[0;36mgenfromtxt\u001b[0;34m(fname, dtype, comments, delimiter, skip_header, skip_footer, converters, missing_values, filling_values, usecols, names, excludelist, deletechars, replace_space, autostrip, case_sensitive, defaultfmt, unpack, usemask, loose, invalid_raise, max_rows, encoding, like)\u001b[0m\n\u001b[1;32m   1791\u001b[0m             \u001b[0mfname\u001b[0m \u001b[0;34m=\u001b[0m \u001b[0mos_fspath\u001b[0m\u001b[0;34m(\u001b[0m\u001b[0mfname\u001b[0m\u001b[0;34m)\u001b[0m\u001b[0;34m\u001b[0m\u001b[0;34m\u001b[0m\u001b[0m\n\u001b[1;32m   1792\u001b[0m         \u001b[0;32mif\u001b[0m \u001b[0misinstance\u001b[0m\u001b[0;34m(\u001b[0m\u001b[0mfname\u001b[0m\u001b[0;34m,\u001b[0m \u001b[0mstr\u001b[0m\u001b[0;34m)\u001b[0m\u001b[0;34m:\u001b[0m\u001b[0;34m\u001b[0m\u001b[0;34m\u001b[0m\u001b[0m\n\u001b[0;32m-> 1793\u001b[0;31m             \u001b[0mfid\u001b[0m \u001b[0;34m=\u001b[0m \u001b[0mnp\u001b[0m\u001b[0;34m.\u001b[0m\u001b[0mlib\u001b[0m\u001b[0;34m.\u001b[0m\u001b[0m_datasource\u001b[0m\u001b[0;34m.\u001b[0m\u001b[0mopen\u001b[0m\u001b[0;34m(\u001b[0m\u001b[0mfname\u001b[0m\u001b[0;34m,\u001b[0m \u001b[0;34m'rt'\u001b[0m\u001b[0;34m,\u001b[0m \u001b[0mencoding\u001b[0m\u001b[0;34m=\u001b[0m\u001b[0mencoding\u001b[0m\u001b[0;34m)\u001b[0m\u001b[0;34m\u001b[0m\u001b[0;34m\u001b[0m\u001b[0m\n\u001b[0m\u001b[1;32m   1794\u001b[0m             \u001b[0mfid_ctx\u001b[0m \u001b[0;34m=\u001b[0m \u001b[0mcontextlib\u001b[0m\u001b[0;34m.\u001b[0m\u001b[0mclosing\u001b[0m\u001b[0;34m(\u001b[0m\u001b[0mfid\u001b[0m\u001b[0;34m)\u001b[0m\u001b[0;34m\u001b[0m\u001b[0;34m\u001b[0m\u001b[0m\n\u001b[1;32m   1795\u001b[0m         \u001b[0;32melse\u001b[0m\u001b[0;34m:\u001b[0m\u001b[0;34m\u001b[0m\u001b[0;34m\u001b[0m\u001b[0m\n",
      "\u001b[0;32m/usr/local/lib/python3.8/dist-packages/numpy/lib/_datasource.py\u001b[0m in \u001b[0;36mopen\u001b[0;34m(path, mode, destpath, encoding, newline)\u001b[0m\n\u001b[1;32m    191\u001b[0m \u001b[0;34m\u001b[0m\u001b[0m\n\u001b[1;32m    192\u001b[0m     \u001b[0mds\u001b[0m \u001b[0;34m=\u001b[0m \u001b[0mDataSource\u001b[0m\u001b[0;34m(\u001b[0m\u001b[0mdestpath\u001b[0m\u001b[0;34m)\u001b[0m\u001b[0;34m\u001b[0m\u001b[0;34m\u001b[0m\u001b[0m\n\u001b[0;32m--> 193\u001b[0;31m     \u001b[0;32mreturn\u001b[0m \u001b[0mds\u001b[0m\u001b[0;34m.\u001b[0m\u001b[0mopen\u001b[0m\u001b[0;34m(\u001b[0m\u001b[0mpath\u001b[0m\u001b[0;34m,\u001b[0m \u001b[0mmode\u001b[0m\u001b[0;34m,\u001b[0m \u001b[0mencoding\u001b[0m\u001b[0;34m=\u001b[0m\u001b[0mencoding\u001b[0m\u001b[0;34m,\u001b[0m \u001b[0mnewline\u001b[0m\u001b[0;34m=\u001b[0m\u001b[0mnewline\u001b[0m\u001b[0;34m)\u001b[0m\u001b[0;34m\u001b[0m\u001b[0;34m\u001b[0m\u001b[0m\n\u001b[0m\u001b[1;32m    194\u001b[0m \u001b[0;34m\u001b[0m\u001b[0m\n\u001b[1;32m    195\u001b[0m \u001b[0;34m\u001b[0m\u001b[0m\n",
      "\u001b[0;32m/usr/local/lib/python3.8/dist-packages/numpy/lib/_datasource.py\u001b[0m in \u001b[0;36mopen\u001b[0;34m(self, path, mode, encoding, newline)\u001b[0m\n\u001b[1;32m    531\u001b[0m                                       encoding=encoding, newline=newline)\n\u001b[1;32m    532\u001b[0m         \u001b[0;32melse\u001b[0m\u001b[0;34m:\u001b[0m\u001b[0;34m\u001b[0m\u001b[0;34m\u001b[0m\u001b[0m\n\u001b[0;32m--> 533\u001b[0;31m             \u001b[0;32mraise\u001b[0m \u001b[0mIOError\u001b[0m\u001b[0;34m(\u001b[0m\u001b[0;34m\"%s not found.\"\u001b[0m \u001b[0;34m%\u001b[0m \u001b[0mpath\u001b[0m\u001b[0;34m)\u001b[0m\u001b[0;34m\u001b[0m\u001b[0;34m\u001b[0m\u001b[0m\n\u001b[0m\u001b[1;32m    534\u001b[0m \u001b[0;34m\u001b[0m\u001b[0m\n\u001b[1;32m    535\u001b[0m \u001b[0;34m\u001b[0m\u001b[0m\n",
      "\u001b[0;31mOSError\u001b[0m:  not found."
     ]
    }
   ],
   "source": [
    "DATA_TEST_PATH = '' # TODO: download train data and supply path here \n",
    "_, tX_test, ids_test = load_csv_data(DATA_TEST_PATH)"
   ]
  },
  {
   "cell_type": "code",
   "execution_count": null,
   "metadata": {
    "collapsed": false,
    "jupyter": {
     "outputs_hidden": false
    }
   },
   "outputs": [],
   "source": [
    "OUTPUT_PATH = '' # TODO: fill in desired name of output file for submission\n",
    "y_pred = predict_labels(weights, tX_test)\n",
    "create_csv_submission(ids_test, y_pred, OUTPUT_PATH)"
   ]
  },
  {
   "cell_type": "code",
   "execution_count": null,
   "metadata": {
    "collapsed": true,
    "jupyter": {
     "outputs_hidden": true
    }
   },
   "outputs": [],
   "source": []
  }
 ],
 "metadata": {
  "anaconda-cloud": {},
  "kernelspec": {
   "display_name": "Python",
   "language": "python",
   "name": "python3"
  },
  "language_info": {
   "codemirror_mode": {
    "name": "ipython",
    "version": 3
   },
   "file_extension": ".py",
   "mimetype": "text/x-python",
   "name": "python",
   "nbconvert_exporter": "python",
   "pygments_lexer": "ipython3",
   "version": "3.8.10"
  }
 },
 "nbformat": 4,
 "nbformat_minor": 4
}
