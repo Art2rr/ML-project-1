{
 "cells": [
  {
   "cell_type": "code",
   "execution_count": 1,
   "metadata": {
    "tags": []
   },
   "outputs": [],
   "source": [
    "# Useful starting lines\n",
    "%matplotlib inline\n",
    "import numpy as np\n",
    "import matplotlib.pyplot as plt\n",
    "%load_ext autoreload\n",
    "%autoreload 2"
   ]
  },
  {
   "cell_type": "markdown",
   "metadata": {},
   "source": [
    "## Load the training data into feature matrix, class labels, and event ids:"
   ]
  },
  {
   "cell_type": "code",
   "execution_count": 2,
   "metadata": {
    "jupyter": {
     "outputs_hidden": false
    }
   },
   "outputs": [],
   "source": [
    "from proj1_helpers import *\n",
    "DATA_TRAIN_PATH = 'train.csv' # TODO: download train data and supply path here \n",
    "y, tX, ids = load_csv_data(DATA_TRAIN_PATH)"
   ]
  },
  {
   "cell_type": "markdown",
   "metadata": {},
   "source": [
    "## Pre-processing of the training data:"
   ]
  },
  {
   "cell_type": "code",
   "execution_count": 3,
   "metadata": {},
   "outputs": [],
   "source": [
    "from data_processing import *\n",
    "\n",
    "thresh = 0\n",
    "std_limit = 5\n",
    "processed_data, most_frq_mass, jet_num_idx, possible_jets, idx_out, all_mean, all_std = process_data(tX, thresh, std_limit)\n"
   ]
  },
  {
   "cell_type": "markdown",
   "metadata": {},
   "source": [
    "## Linear regression using gradient descent:"
   ]
  },
  {
   "cell_type": "code",
   "execution_count": 4,
   "metadata": {},
   "outputs": [
    {
     "name": "stdout",
     "output_type": "stream",
     "text": [
      "Linear regression using gradient descent (jet_num=0): loss*=0.30348548560801025\n",
      "Linear regression using gradient descent (jet_num=1): loss*=0.39205235851210957\n",
      "Linear regression using gradient descent (jet_num=2): loss*=0.371602859565645\n",
      "Linear regression using gradient descent (jet_num=3): loss*=0.38093296875464505\n"
     ]
    }
   ],
   "source": [
    "from implementations import *\n",
    "\n",
    "max_iters_GD = 10\n",
    "gamma = 0.1\n",
    "loss_GD = []\n",
    "w_GD = []\n",
    "\n",
    "# For each group run the Linear regression using gradient descent\n",
    "for jet in possible_jets:\n",
    "    y_data = y[jet_num_idx[jet][0]]\n",
    "    initial_w = np.zeros(processed_data[jet].shape[1]+1)\n",
    "    num_samples = len(y_data)\n",
    "    tx_offset = np.c_[np.ones(num_samples), processed_data[jet]]\n",
    "    \n",
    "    # Gradient descent\n",
    "    loss, w = least_squares_GD(y_data, tx_offset, initial_w, max_iters_GD, gamma)\n",
    "    loss_GD.append(loss)\n",
    "    w_GD.append(w)\n",
    "    \n",
    "    # Print the results\n",
    "    print(\"Linear regression using gradient descent (jet_num={j}): loss*={l}\".format(\n",
    "      l=loss, j=jet))\n"
   ]
  },
  {
   "cell_type": "markdown",
   "metadata": {},
   "source": [
    "## Linear regression using stochastic gradient descent:"
   ]
  },
  {
   "cell_type": "code",
   "execution_count": 5,
   "metadata": {},
   "outputs": [
    {
     "name": "stdout",
     "output_type": "stream",
     "text": [
      "Linear regression using stochastic gradient descent (jet_num=0): loss*=1.0111865801136868\n",
      "Linear regression using stochastic gradient descent (jet_num=1): loss*=1.0752660517066155\n",
      "Linear regression using stochastic gradient descent (jet_num=2): loss*=14.08418955065592\n",
      "Linear regression using stochastic gradient descent (jet_num=3): loss*=1.6675451352125146\n"
     ]
    }
   ],
   "source": [
    "max_iters_SGD = 20\n",
    "gamma = 0.1\n",
    "loss_SGD = []\n",
    "w_SGD = []\n",
    "\n",
    "# For each group run the Linear regression using stochastic gradient descent\n",
    "for jet in possible_jets:\n",
    "    y_data = y[jet_num_idx[jet][0]]\n",
    "    initial_w = np.zeros(processed_data[jet].shape[1]+1)\n",
    "    num_samples = len(y_data)\n",
    "    tx_offset = np.c_[np.ones(num_samples), processed_data[jet]]\n",
    "    \n",
    "    # Stochastic gradient descent\n",
    "    loss, w = least_squares_SGD(y_data, tx_offset, initial_w, max_iters_GD, gamma)\n",
    "    loss_SGD.append(loss)\n",
    "    w_SGD.append(w)\n",
    "    \n",
    "    # Print the results\n",
    "    print(\"Linear regression using stochastic gradient descent (jet_num={j}): loss*={l}\".format(\n",
    "      l=loss, j=jet))"
   ]
  },
  {
   "cell_type": "markdown",
   "metadata": {},
   "source": [
    "## Least squares regression using normal equations:"
   ]
  },
  {
   "cell_type": "code",
   "execution_count": 6,
   "metadata": {},
   "outputs": [
    {
     "name": "stdout",
     "output_type": "stream",
     "text": [
      "Least Squares (jet_num=0): loss*=0.2680627711475311\n",
      "Least Squares (jet_num=1): loss*=0.3691029570396751\n",
      "Least Squares (jet_num=2): loss*=0.3537527108680059\n",
      "Least Squares (jet_num=3): loss*=0.357532399372507\n"
     ]
    }
   ],
   "source": [
    "loss_LS = []\n",
    "w_LS = []\n",
    "\n",
    "# For each group run Least Squares\n",
    "for jet in possible_jets:\n",
    "    y_data = y[jet_num_idx[jet][0]]\n",
    "    initial_w = np.zeros(processed_data[jet].shape[1]+1)\n",
    "    num_samples = len(y_data)\n",
    "    tx_offset = np.c_[np.ones(num_samples), processed_data[jet]]\n",
    "    \n",
    "    # Least Squares\n",
    "    loss, w = least_squares(y_data, tx_offset)\n",
    "    loss_GD.append(loss)\n",
    "    w_GD.append(w)\n",
    "    \n",
    "    # Print the results\n",
    "    print(\"Least Squares (jet_num={j}): loss*={l}\".format(\n",
    "      l=loss, j=jet))"
   ]
  },
  {
   "cell_type": "markdown",
   "metadata": {},
   "source": [
    "## Ridge regression using normal equations:"
   ]
  },
  {
   "cell_type": "code",
   "execution_count": 7,
   "metadata": {},
   "outputs": [
    {
     "name": "stdout",
     "output_type": "stream",
     "text": [
      "Ridge Regression (jet_num=0): loss*=0.23918437365081713\n",
      "Ridge Regression (jet_num=1): loss*=0.31823864046736117\n",
      "Ridge Regression (jet_num=2): loss*=0.28951305976086317\n",
      "Ridge Regression (jet_num=3): loss*=0.2980138231531105\n"
     ]
    }
   ],
   "source": [
    "from hyperparameters import *\n",
    "\n",
    "k_fold = 4\n",
    "degrees = []\n",
    "lambdas = []\n",
    "\n",
    "loss_RR = []\n",
    "w_RR = []\n",
    "\n",
    "# For each group run Ridge Regression \n",
    "for jet in possible_jets:\n",
    "    y_data = y[jet_num_idx[jet][0]]\n",
    "    \n",
    "    # Find best hyperparameters\n",
    "    best_degree, best_lambda, min_testerror, accuracy, best_error, best_acc = find_hyperparameters(y_data, processed_data[jet], k_fold,seed=1)\n",
    "    lambdas.append(best_lambda)\n",
    "    degrees.append(best_degree)\n",
    "    \n",
    "    # Build polynomial\n",
    "    tx = build_poly(processed_data[jet], degrees[jet])\n",
    "    \n",
    "    # Ridge Regression \n",
    "    loss, w = ridge_regression(y_data, tx, lambdas[jet])\n",
    "    loss_RR.append(loss)\n",
    "    w_RR.append(w)\n",
    "\n",
    "    # Print the results\n",
    "    print(\"Ridge Regression (jet_num={j}): loss*={l}\".format(\n",
    "      l=loss, j=jet))"
   ]
  },
  {
   "cell_type": "markdown",
   "metadata": {},
   "source": [
    "## Logistic regression using gradient descent:"
   ]
  },
  {
   "cell_type": "code",
   "execution_count": 9,
   "metadata": {},
   "outputs": [],
   "source": [
    "from hyperparameters import *\n",
    "from costs import *\n",
    "\n",
    "max_iters_LR = 10000\n",
    "gamma_LR = 0.001\n",
    "threshold_LR = 1e-3\n",
    "\n",
    "loss_LR = []\n",
    "w_LR = []\n",
    "\n",
    "# For each group run Logistic Regression\n",
    "for jet in possible_jets:\n",
    "    y_data = y[jet_num_idx[jet][0]]\n",
    "    y_bin = 1*np.equal(y_data,1)\n",
    "    \n",
    "    # Build polynomial\n",
    "    tx = build_poly(processed_data[jet], degrees[jet])\n",
    "    \n",
    "    initial_w = np.zeros(tx.shape[1])\n",
    "    \n",
    "    # Logistic Regression\n",
    "    loss, w = logistic_regression(y_bin, tx, initial_w, max_iters_LR, gamma_LR, threshold_LR)\n",
    "    loss_LR.append(loss)\n",
    "    w_LR.append(w)\n",
    "    \n",
    "    # Print the results\n",
    "#     print(\"Logistic Regression (jet_num={j}): loss*={l}\".format(\n",
    "#       l=loss, j=jet))"
   ]
  },
  {
   "cell_type": "markdown",
   "metadata": {},
   "source": [
    "## Regularized logistic regression using gradient descent:"
   ]
  },
  {
   "cell_type": "code",
   "execution_count": 10,
   "metadata": {},
   "outputs": [],
   "source": [
    "loss_RLR = []\n",
    "w_RLR = []\n",
    "\n",
    "# For each group run Logistic Regression\n",
    "for jet in possible_jets:\n",
    "    y_data = y[jet_num_idx[jet][0]]\n",
    "    y_bin = 1*np.equal(y_data,1)\n",
    "    \n",
    "    # Build polynomial\n",
    "    tx = build_poly(processed_data[jet], degrees[jet])\n",
    "    \n",
    "    initial_w = np.zeros(tx.shape[1])\n",
    "    \n",
    "    # Regularized Logistic Regression\n",
    "    loss, w = reg_logistic_regression(y_bin, tx, lambdas[jet], initial_w, max_iters_LR, gamma_LR, threshold_LR)\n",
    "    loss_RLR.append(loss)\n",
    "    w_RLR.append(w)\n",
    "    \n",
    "    # Regularized Logistic Regression\n",
    "#     print(\"Logistic Regression (jet_num={j}): loss*={l}\".format(\n",
    "#       l=loss, j=jet))"
   ]
  },
  {
   "cell_type": "markdown",
   "metadata": {},
   "source": [
    "## Generate predictions and save ouput in csv format for submission:"
   ]
  },
  {
   "cell_type": "code",
   "execution_count": null,
   "metadata": {
    "jupyter": {
     "outputs_hidden": false
    }
   },
   "outputs": [],
   "source": [
    "DATA_TEST_PATH = 'test.csv' # TODO: download train data and supply path here \n",
    "_, tX_test, ids_test = load_csv_data(DATA_TEST_PATH)"
   ]
  },
  {
   "cell_type": "code",
   "execution_count": null,
   "metadata": {
    "jupyter": {
     "outputs_hidden": false
    }
   },
   "outputs": [],
   "source": [
    "w_optimal = w_RR\n",
    "\n",
    "# Pre-processing test data\n",
    "\n",
    "# Grouping according to jet number\n",
    "jet_num_idx = grouping(tX_test)\n",
    "tx_imp = tX_test\n",
    "\n",
    "# Imputation\n",
    "tx_imp[:, 0] = np.where(tx_imp[:, 0] == -999, most_frq_mass, tx_imp[:, 0])\n",
    "tx_imp[jet_num_idx[0], :] = np.where(tx_imp[jet_num_idx[0], :] == -999, 0, tx_imp[jet_num_idx[0], :])\n",
    "tx_imp[jet_num_idx[1], :] = np.where(tx_imp[jet_num_idx[1], :] == -999, 0, tx_imp[jet_num_idx[1], :])\n",
    "\n",
    "# Create predictions\n",
    "OUTPUT_PATH = 'predictions.csv'\n",
    "\n",
    "processed_tX_test= []\n",
    "y_pred = np.empty(tX_test.shape[0])\n",
    "\n",
    "for jet in possible_jets:\n",
    "    data = tx_imp[jet_num_idx[jet][0], :]\n",
    "    num_samples = data.shape[0]\n",
    "    all_idx = range(data.shape[1])    \n",
    "    processed_tX_test.append(data[:, np.setdiff1d(all_idx, idx_out[jet])])\n",
    "    \n",
    "    # Handle outliers and standardize\n",
    "    processed_tX_test[jet] = clip_outliers(processed_tX_test[jet], std_limit, all_mean[jet], all_std[jet])\n",
    "    test_offset = build_poly(processed_tX_test[jet], degrees[jet])\n",
    "    \n",
    "    # Create preditions for each jet number\n",
    "    y_pred[jet_num_idx[jet][0]] = predict_labels(w_optimal[jet], test_offset)\n",
    "\n",
    "create_csv_submission(ids_test, y_pred, OUTPUT_PATH)"
   ]
  },
  {
   "cell_type": "code",
   "execution_count": null,
   "metadata": {},
   "outputs": [],
   "source": []
  }
 ],
 "metadata": {
  "anaconda-cloud": {},
  "kernelspec": {
   "display_name": "Python 3 (ipykernel)",
   "language": "python",
   "name": "python3"
  },
  "language_info": {
   "codemirror_mode": {
    "name": "ipython",
    "version": 3
   },
   "file_extension": ".py",
   "mimetype": "text/x-python",
   "name": "python",
   "nbconvert_exporter": "python",
   "pygments_lexer": "ipython3",
   "version": "3.9.5"
  }
 },
 "nbformat": 4,
 "nbformat_minor": 4
}
