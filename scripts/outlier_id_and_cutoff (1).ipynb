{
 "cells": [
  {
   "cell_type": "code",
   "execution_count": 3,
   "id": "6642afef-acd5-41fd-b733-7ecfb850620c",
   "metadata": {},
   "outputs": [],
   "source": [
    "from proj1_helpers import load_csv_data\n",
    "\n",
    "yb,input_data,ids = load_csv_data(\"train.csv\")"
   ]
  },
  {
   "cell_type": "code",
   "execution_count": 4,
   "id": "9a9bc413-5366-4ff7-895d-6fa6082ef21f",
   "metadata": {},
   "outputs": [],
   "source": [
    "def standardize(x):\n",
    "\n",
    "    centered_data = x - np.mean(x,axis=0)\n",
    "    std_data = centered_data / np.std(centered_data,axis=0)\n",
    "    \n",
    "    return std_data"
   ]
  },
  {
   "cell_type": "code",
   "execution_count": 63,
   "id": "aeeb08f7-31e8-4337-af95-76e7984b7017",
   "metadata": {},
   "outputs": [],
   "source": [
    "##outlier classification based on standard deviation\n",
    "\n",
    "import matplotlib.pyplot as plt\n",
    "import numpy as np\n",
    "\n",
    "def clip_outliers(input_data,std_limit = 5):\n",
    "    \n",
    "    num_datapoints = np.shape(input_data)[0]\n",
    "    num_feat = np.shape(input_data)[1]\n",
    "    indices = np.indices((1,num_datapoints))\n",
    "    \n",
    "    non_defined = (input_data==-999)\n",
    "    input_data[non_defined] = 0\n",
    "\n",
    "    standardized = standardize(input_data)\n",
    "    number_outliers = np.zeros((1,num_feat))\n",
    "    index_outliers = []\n",
    "\n",
    "    for ii in range(num_feat):\n",
    "        pos_outlier = standardized[:,ii]>std_limit\n",
    "        neg_outlier = standardized[:,ii]<-std_limit\n",
    "        number_outliers[0,ii] = np.sum(pos_outlier) + np.sum(neg_outlier)\n",
    "        \n",
    "        for jj in range(num_datapoints):\n",
    "            if pos_outlier[jj] == True:\n",
    "                standardized[jj,ii] = std_limit\n",
    "            if neg_outlier[jj] == True:\n",
    "                standardized[jj,ii] = -std_limit\n",
    "\n",
    "        #for jj in range(num_datapoints):\n",
    "        #    if (pos_outlier[jj] == True or neg_outlier[jj] == True) and jj not in index_outliers:\n",
    "        #        index_outliers.append(jj)\n",
    "    \n",
    "    print(number_outliers)\n",
    "    print(\"Percentage of values replaced by clipped value is\", f'{(100*np.sum(number_outliers)/num_datapoints):.3f}%')\n",
    "    #standardized_outliers_removed = standardized[np.setdiff1d(indices,index_outliers)]\n",
    "    \n",
    "    return standardized\n",
    "    "
   ]
  },
  {
   "cell_type": "code",
   "execution_count": 65,
   "id": "99405ef7-5cec-4fd4-8f56-cb33c62cd3d9",
   "metadata": {},
   "outputs": [
    {
     "name": "stdout",
     "output_type": "stream",
     "text": [
      "[[ 508.  235.  754.  332.    0. 1076.  476.    0.  492.  375.  466.    0.\n",
      "     0.  765.    0.    0.  632.    0.    0.  574.    0.  247.    0.  390.\n",
      "     0.    0.  439.    0.    0.  360.]]\n",
      "Percentage of values replaced by clipped value is 3.248%\n",
      "(250000, 30)\n"
     ]
    }
   ],
   "source": [
    "standardized_outliers_clipped = clip_outliers(input_data,6)\n",
    "print(np.shape(standardized_outliers_clipped))"
   ]
  },
  {
   "cell_type": "code",
   "execution_count": null,
   "id": "9e89e576-1ff3-4837-83cb-1fc4731d35ab",
   "metadata": {},
   "outputs": [],
   "source": []
  },
  {
   "cell_type": "code",
   "execution_count": null,
   "id": "759d0036-4249-4cc5-a0ee-4f49c99dbb0c",
   "metadata": {},
   "outputs": [],
   "source": []
  }
 ],
 "metadata": {
  "kernelspec": {
   "display_name": "Python",
   "language": "python",
   "name": "python3"
  },
  "language_info": {
   "codemirror_mode": {
    "name": "ipython",
    "version": 3
   },
   "file_extension": ".py",
   "mimetype": "text/x-python",
   "name": "python",
   "nbconvert_exporter": "python",
   "pygments_lexer": "ipython3",
   "version": "3.8.10"
  }
 },
 "nbformat": 4,
 "nbformat_minor": 5
}
