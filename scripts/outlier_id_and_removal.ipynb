{
 "cells": [
  {
   "cell_type": "code",
   "execution_count": 1,
   "id": "6642afef-acd5-41fd-b733-7ecfb850620c",
   "metadata": {},
   "outputs": [],
   "source": [
    "from proj1_helpers import load_csv_data\n",
    "\n",
    "yb,input_data,ids = load_csv_data(\"train.csv\")"
   ]
  },
  {
   "cell_type": "code",
   "execution_count": 2,
   "id": "9a9bc413-5366-4ff7-895d-6fa6082ef21f",
   "metadata": {},
   "outputs": [],
   "source": [
    "def standardize(x):\n",
    "\n",
    "    centered_data = x - np.mean(x,axis=0)\n",
    "    std_data = centered_data / np.std(centered_data,axis=0)\n",
    "    \n",
    "    return std_data"
   ]
  },
  {
   "cell_type": "code",
   "execution_count": 6,
   "id": "aeeb08f7-31e8-4337-af95-76e7984b7017",
   "metadata": {},
   "outputs": [],
   "source": [
    "##outlier classification based on standard deviation\n",
    "\n",
    "import matplotlib.pyplot as plt\n",
    "import numpy as np\n",
    "\n",
    "def remove_outliers(input_data,std_limit = 4):\n",
    "\n",
    "    num_datapoints = np.shape(input_data)[0]\n",
    "    num_feat = np.shape(input_data)[1]\n",
    "    indices = np.indices((1,num_datapoints))\n",
    "\n",
    "    standardized = standardize(input_data)\n",
    "    number_outliers = np.zeros((1,num_feat))\n",
    "    index_outliers = []\n",
    "\n",
    "    for ii in range(num_feat):\n",
    "        non_defined = input_data[:,ii]==-999\n",
    "        standardized[non_defined] = 0\n",
    "    \n",
    "        pos_outlier = standardized[:,ii]>std_limit\n",
    "        neg_outlier = standardized[:,ii]<-std_limit\n",
    "        number_outliers[0,ii] = np.sum(pos_outlier) + np.sum(neg_outlier)\n",
    "    \n",
    "        for jj in range(num_datapoints):\n",
    "            if (pos_outlier[jj] == True or neg_outlier[jj] == True) and jj not in index_outliers:\n",
    "                index_outliers.append(jj)\n",
    "\n",
    "    print(\"Percentage of points containing at least one outlier is\", f'{(100*len(index_outliers)/num_datapoints):.3f}%')\n",
    "    standardized_outliers_removed = standardized[np.setdiff1d(indices,index_outliers)]\n",
    "    \n",
    "    return standardized_outliers_removed\n",
    "    "
   ]
  },
  {
   "cell_type": "code",
   "execution_count": 7,
   "id": "99405ef7-5cec-4fd4-8f56-cb33c62cd3d9",
   "metadata": {},
   "outputs": [
    {
     "name": "stdout",
     "output_type": "stream",
     "text": [
      "Percentage of points containing at least one outlier is 3.664%\n",
      "(240841, 30)\n"
     ]
    }
   ],
   "source": [
    "standardized_outliers_removed = remove_outliers(input_data)\n",
    "print(np.shape(standardized_outliers_removed))"
   ]
  },
  {
   "cell_type": "code",
   "execution_count": null,
   "id": "5aa76f67-45b6-4bd2-bbba-1ddd70dbc683",
   "metadata": {},
   "outputs": [],
   "source": []
  }
 ],
 "metadata": {
  "kernelspec": {
   "display_name": "Python",
   "language": "python",
   "name": "python3"
  },
  "language_info": {
   "codemirror_mode": {
    "name": "ipython",
    "version": 3
   },
   "file_extension": ".py",
   "mimetype": "text/x-python",
   "name": "python",
   "nbconvert_exporter": "python",
   "pygments_lexer": "ipython3",
   "version": "3.8.10"
  }
 },
 "nbformat": 4,
 "nbformat_minor": 5
}
