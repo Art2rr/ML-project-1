{
 "cells": [
  {
   "cell_type": "code",
   "execution_count": 1,
   "id": "0980c21f-fabe-433f-a823-0cda38ce897c",
   "metadata": {
    "tags": []
   },
   "outputs": [],
   "source": [
    "# Useful starting lines\n",
    "%matplotlib inline\n",
    "import numpy as np\n",
    "import matplotlib.pyplot as plt\n",
    "%load_ext autoreload\n",
    "%autoreload 2"
   ]
  },
  {
   "cell_type": "markdown",
   "id": "b93d92f7-c558-4b4a-a043-9912ca33901f",
   "metadata": {
    "tags": []
   },
   "source": [
    "## Load the training data into feature matrix, class labels, and event ids:"
   ]
  },
  {
   "cell_type": "code",
   "execution_count": 2,
   "id": "b6075057-242a-428e-bc0b-eece3492cac1",
   "metadata": {
    "collapsed": false,
    "jupyter": {
     "outputs_hidden": false
    }
   },
   "outputs": [],
   "source": [
    "from proj1_helpers import *\n",
    "from helpers import *\n",
    "from plots import *\n",
    "DATA_TRAIN_PATH = './train.csv' # TODO: download train data and supply path here \n",
    "y, tX, ids = load_csv_data(DATA_TRAIN_PATH)"
   ]
  },
  {
   "cell_type": "markdown",
   "id": "c7213130-d363-4004-9992-6b26eebfc26f",
   "metadata": {
    "jp-MarkdownHeadingCollapsed": true,
    "tags": []
   },
   "source": [
    "# Features"
   ]
  },
  {
   "cell_type": "markdown",
   "id": "e4f0d0e3-eee4-43d2-8872-7be306371301",
   "metadata": {
    "jp-MarkdownHeadingCollapsed": true,
    "tags": []
   },
   "source": [
    "## Feature reduction"
   ]
  },
  {
   "cell_type": "code",
   "execution_count": 3,
   "id": "955c9872-95d3-45f1-8869-8cdb07d804aa",
   "metadata": {},
   "outputs": [
    {
     "data": {
      "text/plain": [
       "(250000, 30)"
      ]
     },
     "execution_count": 3,
     "metadata": {},
     "output_type": "execute_result"
    }
   ],
   "source": [
    "np.shape(tX)"
   ]
  },
  {
   "cell_type": "markdown",
   "id": "f23f2197-e423-4cbf-add9-43d3d66ea95a",
   "metadata": {
    "tags": []
   },
   "source": [
    "### Removing features that are mostly one value"
   ]
  },
  {
   "cell_type": "code",
   "execution_count": 4,
   "id": "0ace6332-79ca-43ad-8897-c894bc2b0d38",
   "metadata": {},
   "outputs": [],
   "source": [
    "def f_too_many_values(tX,val=-999):\n",
    "    #there is a lot of -999 values in the data\n",
    "    #count the occurences for each feature\n",
    "    f_to_remove = []\n",
    "    for f in range(np.shape(tX)[1]):\n",
    "        #print(tX[:,f])\n",
    "        unique, counts = np.unique(tX[:,f], return_counts=True)\n",
    "        count_dic = dict(zip(unique, counts))\n",
    "        if val in count_dic:\n",
    "            nb_999 = count_dic[val]\n",
    "            nb_tot = np.shape(tX)[0]\n",
    "            print(f\"feature: \",f)\n",
    "            per = (nb_999/nb_tot)*100\n",
    "            print(f\"number of \", val,\" values\",nb_999,\"which is\",per,\"%\")\n",
    "            if per > 10:\n",
    "                f_to_remove.append(f)\n",
    "    print(f\"to remove\",f_to_remove)\n",
    "    return f_to_remove"
   ]
  },
  {
   "cell_type": "code",
   "execution_count": 5,
   "id": "8c28edd4-0611-42dd-92e7-fdbbf17fee1d",
   "metadata": {},
   "outputs": [
    {
     "name": "stdout",
     "output_type": "stream",
     "text": [
      "feature:  0\n",
      "number of  -999  values 38114 which is 15.245600000000001 %\n",
      "feature:  4\n",
      "number of  -999  values 177457 which is 70.9828 %\n",
      "feature:  5\n",
      "number of  -999  values 177457 which is 70.9828 %\n",
      "feature:  6\n",
      "number of  -999  values 177457 which is 70.9828 %\n",
      "feature:  12\n",
      "number of  -999  values 177457 which is 70.9828 %\n",
      "feature:  23\n",
      "number of  -999  values 99913 which is 39.9652 %\n",
      "feature:  24\n",
      "number of  -999  values 99913 which is 39.9652 %\n",
      "feature:  25\n",
      "number of  -999  values 99913 which is 39.9652 %\n",
      "feature:  26\n",
      "number of  -999  values 177457 which is 70.9828 %\n",
      "feature:  27\n",
      "number of  -999  values 177457 which is 70.9828 %\n",
      "feature:  28\n",
      "number of  -999  values 177457 which is 70.9828 %\n",
      "to remove [0, 4, 5, 6, 12, 23, 24, 25, 26, 27, 28]\n"
     ]
    },
    {
     "data": {
      "text/plain": [
       "[0, 4, 5, 6, 12, 23, 24, 25, 26, 27, 28]"
      ]
     },
     "execution_count": 5,
     "metadata": {},
     "output_type": "execute_result"
    }
   ],
   "source": [
    "f_too_many_values(tX,-999)"
   ]
  },
  {
   "cell_type": "code",
   "execution_count": 6,
   "id": "774fd877-c7a1-4011-88bd-37c74ed03df8",
   "metadata": {},
   "outputs": [
    {
     "name": "stdout",
     "output_type": "stream",
     "text": [
      "feature:  0\n",
      "number of -999 values 38114 which is 15.245600000000001 %\n",
      "feature:  4\n",
      "number of -999 values 177457 which is 70.9828 %\n",
      "feature:  5\n",
      "number of -999 values 177457 which is 70.9828 %\n",
      "feature:  6\n",
      "number of -999 values 177457 which is 70.9828 %\n",
      "feature:  12\n",
      "number of -999 values 177457 which is 70.9828 %\n",
      "feature:  23\n",
      "number of -999 values 99913 which is 39.9652 %\n",
      "feature:  24\n",
      "number of -999 values 99913 which is 39.9652 %\n",
      "feature:  25\n",
      "number of -999 values 99913 which is 39.9652 %\n",
      "feature:  26\n",
      "number of -999 values 177457 which is 70.9828 %\n",
      "feature:  27\n",
      "number of -999 values 177457 which is 70.9828 %\n",
      "feature:  28\n",
      "number of -999 values 177457 which is 70.9828 %\n",
      "to remove [0, 4, 5, 6, 12, 23, 24, 25, 26, 27, 28]\n"
     ]
    }
   ],
   "source": [
    "#there is a lot of -999 values in the data\n",
    "#count the occurences for each feature\n",
    "f_to_remove = []\n",
    "for f in range(np.shape(tX)[1]):\n",
    "    #print(tX[:,f])\n",
    "    unique, counts = np.unique(tX[:,f], return_counts=True)\n",
    "    count_dic = dict(zip(unique, counts))\n",
    "    if -999 in count_dic:\n",
    "        nb_999 = count_dic[-999]\n",
    "        nb_tot = np.shape(tX)[0]\n",
    "        print(f\"feature: \",f)\n",
    "        per = (nb_999/nb_tot)*100\n",
    "        print(f\"number of -999 values\",nb_999,\"which is\",per,\"%\")\n",
    "        if per > 10:\n",
    "            f_to_remove.append(f)\n",
    "print(f\"to remove\",f_to_remove)"
   ]
  },
  {
   "cell_type": "code",
   "execution_count": 7,
   "id": "0564fd0a-2482-49cd-964c-4bbee38469d5",
   "metadata": {},
   "outputs": [
    {
     "data": {
      "text/plain": [
       "(250000, 19)"
      ]
     },
     "execution_count": 7,
     "metadata": {},
     "output_type": "execute_result"
    }
   ],
   "source": [
    "#delete the selected features\n",
    "tX_red_f = np.delete(tX,f_to_remove,1)\n",
    "np.shape(tX_red_f)"
   ]
  },
  {
   "cell_type": "markdown",
   "id": "1a07801e-c5f9-46fb-b72b-2a54e218a28e",
   "metadata": {
    "tags": []
   },
   "source": [
    "### Checking feature similarity"
   ]
  },
  {
   "cell_type": "code",
   "execution_count": 8,
   "id": "f5d373c8-23f3-42fe-aa1d-99ff96e85419",
   "metadata": {},
   "outputs": [
    {
     "data": {
      "text/plain": [
       "(250000, 19)"
      ]
     },
     "execution_count": 8,
     "metadata": {},
     "output_type": "execute_result"
    }
   ],
   "source": [
    "np.shape(tX_red_f)"
   ]
  },
  {
   "cell_type": "code",
   "execution_count": 9,
   "id": "76dc0754-3e06-413e-a0db-9f741af5ba61",
   "metadata": {},
   "outputs": [],
   "source": [
    "def f_corr(corr_thr):\n",
    "    #find correlation between the features\n",
    "    #corr_thr = 8e-1\n",
    "    corr = np.absolute(np.corrcoef(tX_red_f.T))\n",
    "    bool_cor = np.greater(corr,corr_thr)\n",
    "    f1,f2 = np.where(bool_cor)\n",
    "    for i in range(len(f1)):\n",
    "        if ~(f1[i] == f2[i]):\n",
    "            corr_val = corr[f1[i],f2[i]]\n",
    "            print(f\"Features \",f1[i],\"and\",f2[i],\"are strongly correlated. Value:\",corr_val)"
   ]
  },
  {
   "cell_type": "code",
   "execution_count": 10,
   "id": "4392e334-9ed2-4f2e-a415-8011e9a09d6e",
   "metadata": {},
   "outputs": [
    {
     "name": "stdout",
     "output_type": "stream",
     "text": [
      "Features  2 and 5 are strongly correlated. Value: 0.8327330666331234\n",
      "Features  2 and 18 are strongly correlated. Value: 0.8086162641281681\n",
      "Features  5 and 2 are strongly correlated. Value: 0.8327330666331234\n",
      "Features  5 and 16 are strongly correlated. Value: 0.9044814595684981\n",
      "Features  5 and 18 are strongly correlated. Value: 0.9656283889163993\n",
      "Features  16 and 5 are strongly correlated. Value: 0.9044814595684981\n",
      "Features  16 and 18 are strongly correlated. Value: 0.8844128574100243\n",
      "Features  17 and 18 are strongly correlated. Value: 0.8043255943442028\n",
      "Features  18 and 2 are strongly correlated. Value: 0.8086162641281681\n",
      "Features  18 and 5 are strongly correlated. Value: 0.9656283889163995\n",
      "Features  18 and 16 are strongly correlated. Value: 0.8844128574100243\n",
      "Features  18 and 17 are strongly correlated. Value: 0.8043255943442027\n"
     ]
    }
   ],
   "source": [
    "#find correlation between the features\n",
    "corr_thr = 8e-1\n",
    "corr = np.absolute(np.corrcoef(tX_red_f.T))\n",
    "bool_cor = np.greater(corr,corr_thr)\n",
    "f1,f2 = np.where(bool_cor)\n",
    "#print(f1,f2)\n",
    "for i in range(len(f1)):\n",
    "    if ~(f1[i] == f2[i]):\n",
    "        corr_val = corr[f1[i],f2[i]]\n",
    "        print(f\"Features \",f1[i],\"and\",f2[i],\"are strongly correlated. Value:\",corr_val)"
   ]
  },
  {
   "cell_type": "markdown",
   "id": "35a1014d-ad6a-4931-8629-37206cfc8ad9",
   "metadata": {},
   "source": [
    "Very strong corr between features 5,16,18 **The three features can be replaced by just feature 5**\n",
    "\n",
    "additional corr between features 2 and 5,18 **2 can also be removed to just keep 5**"
   ]
  },
  {
   "cell_type": "code",
   "execution_count": 11,
   "id": "a0584c2b-b5ac-44e8-9088-2ffc27f9dfe9",
   "metadata": {},
   "outputs": [],
   "source": [
    "f_to_remove = np.array([2,16,18])"
   ]
  },
  {
   "cell_type": "code",
   "execution_count": 12,
   "id": "5345afdb-7e6c-4784-a222-343b58c6ec31",
   "metadata": {},
   "outputs": [
    {
     "data": {
      "text/plain": [
       "(250000, 16)"
      ]
     },
     "execution_count": 12,
     "metadata": {},
     "output_type": "execute_result"
    }
   ],
   "source": [
    "#delete the selected features\n",
    "tX = np.delete(tX_red_f,f_to_remove,1)\n",
    "np.shape(tX)"
   ]
  },
  {
   "cell_type": "markdown",
   "id": "2a2e5f9e-8edd-4100-9790-870dd123467f",
   "metadata": {
    "jp-MarkdownHeadingCollapsed": true,
    "tags": []
   },
   "source": [
    "## Data standarisation"
   ]
  },
  {
   "cell_type": "code",
   "execution_count": 13,
   "id": "9659c743-2c40-4e1c-ab6c-6809abd7f5f9",
   "metadata": {},
   "outputs": [
    {
     "data": {
      "text/plain": [
       "(250000, 16)"
      ]
     },
     "execution_count": 13,
     "metadata": {},
     "output_type": "execute_result"
    }
   ],
   "source": [
    "np.shape(tX)"
   ]
  },
  {
   "cell_type": "code",
   "execution_count": 14,
   "id": "661f64bf-a7b4-4726-be43-c6fb1c5a5bec",
   "metadata": {},
   "outputs": [],
   "source": [
    "y = np.expand_dims(y, axis=1)\n",
    "y_bin = 1*np.equal(y,1)"
   ]
  },
  {
   "cell_type": "code",
   "execution_count": 15,
   "id": "a2b91190-2dd2-4169-9244-92ebc03c5c0d",
   "metadata": {},
   "outputs": [],
   "source": [
    "def standarize(x):\n",
    "    mean_x = np.mean(x, axis=0)\n",
    "    std_x = np.std(x, axis=0)\n",
    "    return (x-mean_x) / std_x"
   ]
  },
  {
   "cell_type": "code",
   "execution_count": 16,
   "id": "f7b9d58c-d3ce-4035-895f-27700a6ca55c",
   "metadata": {},
   "outputs": [],
   "source": [
    "x_st = standarize(tX)"
   ]
  },
  {
   "cell_type": "markdown",
   "id": "2fe48f1c-4eb2-4d50-82dc-c929bf3215c8",
   "metadata": {},
   "source": [
    "# Learning Model"
   ]
  },
  {
   "cell_type": "markdown",
   "id": "967be44e-b281-42c5-ae4b-b68006d89988",
   "metadata": {
    "tags": []
   },
   "source": [
    "## Functions"
   ]
  },
  {
   "cell_type": "code",
   "execution_count": 53,
   "id": "0cfb35fa-8a38-4dd9-96c5-407aba8423df",
   "metadata": {},
   "outputs": [],
   "source": [
    "def sigmoid(t):\n",
    "    z =np.where(t >= 0, 1 / (1 + np.exp(-t)), np.exp(t) / (1 + np.exp(t)))\n",
    "    return z / (1 + z)"
   ]
  },
  {
   "cell_type": "code",
   "execution_count": 54,
   "id": "75196960-4f25-40e0-a9a4-64db851efc56",
   "metadata": {
    "tags": []
   },
   "outputs": [],
   "source": [
    "def calculate_loss(y, tx, w):\n",
    "    \"\"\"compute the loss: negative log likelihood.\"\"\"\n",
    "    sigma = sigmoid(tx.dot(w))\n",
    "    loss = (y.T.dot(np.log(sigma)) + (1-y).T.dot(np.log(1-sigma)))\n",
    "    return np.squeeze(-loss)"
   ]
  },
  {
   "cell_type": "code",
   "execution_count": 55,
   "id": "3d8b4fc1-ab26-4288-94c1-3ecf955d2adc",
   "metadata": {
    "tags": []
   },
   "outputs": [],
   "source": [
    "def calculate_gradient(y, tx, w):\n",
    "    \"\"\"compute the gradient of loss.\"\"\"\n",
    "    sigma = sigmoid(tx.dot(w))\n",
    "    return tx.T.dot(sigma - y)"
   ]
  },
  {
   "cell_type": "code",
   "execution_count": 56,
   "id": "a0fe7c34-934e-48dc-8743-e0449716014b",
   "metadata": {
    "tags": []
   },
   "outputs": [],
   "source": [
    "def penalized_logistic_regression(y, tx, w, lambda_):\n",
    "    \"\"\"return the loss, gradient\"\"\"\n",
    "    loss = calculate_loss(y,tx,w) + lambda_*w.T.dot(w)\n",
    "    grad = calculate_gradient(y,tx,w) + 2*lambda_*w\n",
    "    return loss, grad"
   ]
  },
  {
   "cell_type": "code",
   "execution_count": 57,
   "id": "c4afe670-9dd2-46a4-89a8-ecfff584113f",
   "metadata": {
    "tags": []
   },
   "outputs": [],
   "source": [
    "def learning_by_penalized_gradient(y, tx, w, gamma, lambda_):\n",
    "    \"\"\"\n",
    "    Do one step of gradient descent, using the penalized logistic regression.\n",
    "    Return the loss and updated w.\n",
    "    \"\"\"\n",
    "    loss, grad = penalized_logistic_regression(y, tx, w, lambda_)\n",
    "    w = w - (gamma * grad)\n",
    "    return loss, w"
   ]
  },
  {
   "cell_type": "code",
   "execution_count": 58,
   "id": "cc7b263c-7c09-4f54-8f4c-69feabef4b1e",
   "metadata": {},
   "outputs": [],
   "source": [
    "def batch_iter(y, tx, batch_size, num_batches=10, shuffle=True):\n",
    "    \"\"\"\n",
    "    Generate a minibatch iterator for a dataset.\n",
    "    Takes as input two iterables (here the output desired values 'y' and the input data 'tx')\n",
    "    Outputs an iterator which gives mini-batches of `batch_size` matching elements from `y` and `tx`.\n",
    "    Data can be randomly shuffled to avoid ordering in the original data messing with the randomness of the minibatches.\n",
    "    Example of use :\n",
    "    for minibatch_y, minibatch_tx in batch_iter(y, tx, 32):\n",
    "        <DO-SOMETHING>\n",
    "    \"\"\"\n",
    "    data_size = len(y)\n",
    "\n",
    "    if shuffle:\n",
    "        shuffle_indices = np.random.permutation(np.arange(data_size))\n",
    "        shuffled_y = y[shuffle_indices]\n",
    "        shuffled_tx = tx[shuffle_indices]\n",
    "    else:\n",
    "        shuffled_y = y\n",
    "        shuffled_tx = tx\n",
    "    for batch_num in range(num_batches):\n",
    "        start_index = batch_num * batch_size\n",
    "        end_index = min((batch_num + 1) * batch_size, data_size)\n",
    "        if start_index != end_index:\n",
    "            yield shuffled_y[start_index:end_index], shuffled_tx[start_index:end_index]"
   ]
  },
  {
   "cell_type": "code",
   "execution_count": 59,
   "id": "4f4698e6-d172-43c4-a1c2-f06a964cf206",
   "metadata": {},
   "outputs": [],
   "source": [
    "def learning_by_penalized_stoch_gradient(y, tx, w, gamma,lambda_, batch_size=1, max_iters=10000):\n",
    "    \"\"\"\n",
    "    Do one step of gradient descent, using the penalized logistic regression.\n",
    "    Return the loss and updated w.\n",
    "    \"\"\"\n",
    "    for y_b, tx_b in batch_iter(y, tx, batch_size):\n",
    "            grad = calculate_gradient(y_b,tx_b,w)\n",
    "            loss = calculate_loss(y, tx, w)\n",
    "            w = w - gamma*grad\n",
    "    return loss, w"
   ]
  },
  {
   "cell_type": "code",
   "execution_count": 83,
   "id": "ea97623e-44f3-4105-8fc6-c732fa593e72",
   "metadata": {},
   "outputs": [],
   "source": [
    "def logistic_regression_penalized_gradient_descent_demo(y, tx, gamma, lambda_, batch_size=1, max_iter=10000,stoch=True):\n",
    "    #initialise w\n",
    "    w = np.zeros((tx.shape[1], 1))\n",
    "\n",
    "    # start the logistic regression\n",
    "    for iter in range(max_iter):\n",
    "        # get loss and update w.\n",
    "        if stoch == True:\n",
    "            loss, w = learning_by_penalized_stoch_gradient(y, tx, w, gamma, lambda_,batch_size=1)\n",
    "        else:\n",
    "            loss, w = learning_by_penalized_gradient(y, tx, w, gamma, lambda_)\n",
    "        # log info\n",
    "        if iter % 100 == 0:\n",
    "            print(\"Current iteration={i}, loss={l}\".format(i=iter, l=loss))\n",
    "        # converge criterion\n",
    "        losses.append(loss)\n",
    "        if len(losses) > 1 and np.abs(losses[-1] - losses[-2]) < threshold:\n",
    "            break\n",
    "        #if len(losses) > 1 and (losses[-1] - losses[-2]) < 0:\n",
    "        #   break\n",
    "    l = calculate_loss(y, tx, w)\n",
    "    print(\"Final loss={l}\".format(l=calculate_loss(y, tx, w)))\n",
    "    return w, l"
   ]
  },
  {
   "cell_type": "markdown",
   "id": "d27b1caf-0bdd-463e-ad67-948b2d6d9790",
   "metadata": {
    "tags": []
   },
   "source": [
    "## Model optimisation"
   ]
  },
  {
   "cell_type": "code",
   "execution_count": 84,
   "id": "8b59f3c4-2c63-44e4-941f-61861fa1f844",
   "metadata": {},
   "outputs": [],
   "source": [
    "    # init parameters\n",
    "    max_iter = 2000\n",
    "    batch_size = 10\n",
    "    gamma = 0.001\n",
    "    lambda_ = 0.8\n",
    "    threshold = 2\n",
    "    losses = []"
   ]
  },
  {
   "cell_type": "code",
   "execution_count": 85,
   "id": "df82f91e-61c8-44ed-a9b5-80c7b6735e02",
   "metadata": {},
   "outputs": [
    {
     "name": "stdout",
     "output_type": "stream",
     "text": [
      "Current iteration=0, loss=160692.61330333492\n"
     ]
    },
    {
     "ename": "KeyboardInterrupt",
     "evalue": "",
     "output_type": "error",
     "traceback": [
      "\u001b[0;31m---------------------------------------------------------------------------\u001b[0m",
      "\u001b[0;31mKeyboardInterrupt\u001b[0m                         Traceback (most recent call last)",
      "\u001b[0;32m/tmp/ipykernel_505/2720579306.py\u001b[0m in \u001b[0;36m<module>\u001b[0;34m\u001b[0m\n\u001b[0;32m----> 1\u001b[0;31m \u001b[0mmodel\u001b[0m\u001b[0;34m,\u001b[0m \u001b[0mfinal_loss\u001b[0m \u001b[0;34m=\u001b[0m \u001b[0mlogistic_regression_penalized_gradient_descent_demo\u001b[0m\u001b[0;34m(\u001b[0m\u001b[0my_bin\u001b[0m\u001b[0;34m,\u001b[0m \u001b[0mx_st\u001b[0m\u001b[0;34m,\u001b[0m \u001b[0mgamma\u001b[0m\u001b[0;34m,\u001b[0m \u001b[0mlambda_\u001b[0m\u001b[0;34m,\u001b[0m \u001b[0mbatch_size\u001b[0m\u001b[0;34m,\u001b[0m \u001b[0mmax_iter\u001b[0m\u001b[0;34m)\u001b[0m\u001b[0;34m\u001b[0m\u001b[0;34m\u001b[0m\u001b[0m\n\u001b[0m",
      "\u001b[0;32m/tmp/ipykernel_505/1212929375.py\u001b[0m in \u001b[0;36mlogistic_regression_penalized_gradient_descent_demo\u001b[0;34m(y, tx, gamma, lambda_, batch_size, max_iter, stoch)\u001b[0m\n\u001b[1;32m      7\u001b[0m         \u001b[0;31m# get loss and update w.\u001b[0m\u001b[0;34m\u001b[0m\u001b[0;34m\u001b[0m\u001b[0;34m\u001b[0m\u001b[0m\n\u001b[1;32m      8\u001b[0m         \u001b[0;32mif\u001b[0m \u001b[0mstoch\u001b[0m \u001b[0;34m==\u001b[0m \u001b[0;32mTrue\u001b[0m\u001b[0;34m:\u001b[0m\u001b[0;34m\u001b[0m\u001b[0;34m\u001b[0m\u001b[0m\n\u001b[0;32m----> 9\u001b[0;31m             \u001b[0mloss\u001b[0m\u001b[0;34m,\u001b[0m \u001b[0mw\u001b[0m \u001b[0;34m=\u001b[0m \u001b[0mlearning_by_penalized_stoch_gradient\u001b[0m\u001b[0;34m(\u001b[0m\u001b[0my\u001b[0m\u001b[0;34m,\u001b[0m \u001b[0mtx\u001b[0m\u001b[0;34m,\u001b[0m \u001b[0mw\u001b[0m\u001b[0;34m,\u001b[0m \u001b[0mgamma\u001b[0m\u001b[0;34m,\u001b[0m \u001b[0mlambda_\u001b[0m\u001b[0;34m,\u001b[0m\u001b[0mbatch_size\u001b[0m\u001b[0;34m=\u001b[0m\u001b[0;36m1\u001b[0m\u001b[0;34m)\u001b[0m\u001b[0;34m\u001b[0m\u001b[0;34m\u001b[0m\u001b[0m\n\u001b[0m\u001b[1;32m     10\u001b[0m         \u001b[0;32melse\u001b[0m\u001b[0;34m:\u001b[0m\u001b[0;34m\u001b[0m\u001b[0;34m\u001b[0m\u001b[0m\n\u001b[1;32m     11\u001b[0m             \u001b[0mloss\u001b[0m\u001b[0;34m,\u001b[0m \u001b[0mw\u001b[0m \u001b[0;34m=\u001b[0m \u001b[0mlearning_by_penalized_gradient\u001b[0m\u001b[0;34m(\u001b[0m\u001b[0my\u001b[0m\u001b[0;34m,\u001b[0m \u001b[0mtx\u001b[0m\u001b[0;34m,\u001b[0m \u001b[0mw\u001b[0m\u001b[0;34m,\u001b[0m \u001b[0mgamma\u001b[0m\u001b[0;34m,\u001b[0m \u001b[0mlambda_\u001b[0m\u001b[0;34m)\u001b[0m\u001b[0;34m\u001b[0m\u001b[0;34m\u001b[0m\u001b[0m\n",
      "\u001b[0;32m/tmp/ipykernel_505/2650612043.py\u001b[0m in \u001b[0;36mlearning_by_penalized_stoch_gradient\u001b[0;34m(y, tx, w, gamma, lambda_, batch_size, max_iters)\u001b[0m\n\u001b[1;32m      6\u001b[0m     \u001b[0;32mfor\u001b[0m \u001b[0my_b\u001b[0m\u001b[0;34m,\u001b[0m \u001b[0mtx_b\u001b[0m \u001b[0;32min\u001b[0m \u001b[0mbatch_iter\u001b[0m\u001b[0;34m(\u001b[0m\u001b[0my\u001b[0m\u001b[0;34m,\u001b[0m \u001b[0mtx\u001b[0m\u001b[0;34m,\u001b[0m \u001b[0mbatch_size\u001b[0m\u001b[0;34m)\u001b[0m\u001b[0;34m:\u001b[0m\u001b[0;34m\u001b[0m\u001b[0;34m\u001b[0m\u001b[0m\n\u001b[1;32m      7\u001b[0m             \u001b[0mgrad\u001b[0m \u001b[0;34m=\u001b[0m \u001b[0mcalculate_gradient\u001b[0m\u001b[0;34m(\u001b[0m\u001b[0my_b\u001b[0m\u001b[0;34m,\u001b[0m\u001b[0mtx_b\u001b[0m\u001b[0;34m,\u001b[0m\u001b[0mw\u001b[0m\u001b[0;34m)\u001b[0m\u001b[0;34m\u001b[0m\u001b[0;34m\u001b[0m\u001b[0m\n\u001b[0;32m----> 8\u001b[0;31m             \u001b[0mloss\u001b[0m \u001b[0;34m=\u001b[0m \u001b[0mcalculate_loss\u001b[0m\u001b[0;34m(\u001b[0m\u001b[0my\u001b[0m\u001b[0;34m,\u001b[0m \u001b[0mtx\u001b[0m\u001b[0;34m,\u001b[0m \u001b[0mw\u001b[0m\u001b[0;34m)\u001b[0m\u001b[0;34m\u001b[0m\u001b[0;34m\u001b[0m\u001b[0m\n\u001b[0m\u001b[1;32m      9\u001b[0m             \u001b[0mw\u001b[0m \u001b[0;34m=\u001b[0m \u001b[0mw\u001b[0m \u001b[0;34m-\u001b[0m \u001b[0mgamma\u001b[0m\u001b[0;34m*\u001b[0m\u001b[0mgrad\u001b[0m\u001b[0;34m\u001b[0m\u001b[0;34m\u001b[0m\u001b[0m\n\u001b[1;32m     10\u001b[0m     \u001b[0;32mreturn\u001b[0m \u001b[0mloss\u001b[0m\u001b[0;34m,\u001b[0m \u001b[0mw\u001b[0m\u001b[0;34m\u001b[0m\u001b[0;34m\u001b[0m\u001b[0m\n",
      "\u001b[0;32m/tmp/ipykernel_505/277735068.py\u001b[0m in \u001b[0;36mcalculate_loss\u001b[0;34m(y, tx, w)\u001b[0m\n\u001b[1;32m      2\u001b[0m     \u001b[0;34m\"\"\"compute the loss: negative log likelihood.\"\"\"\u001b[0m\u001b[0;34m\u001b[0m\u001b[0;34m\u001b[0m\u001b[0m\n\u001b[1;32m      3\u001b[0m     \u001b[0msigma\u001b[0m \u001b[0;34m=\u001b[0m \u001b[0msigmoid\u001b[0m\u001b[0;34m(\u001b[0m\u001b[0mtx\u001b[0m\u001b[0;34m.\u001b[0m\u001b[0mdot\u001b[0m\u001b[0;34m(\u001b[0m\u001b[0mw\u001b[0m\u001b[0;34m)\u001b[0m\u001b[0;34m)\u001b[0m\u001b[0;34m\u001b[0m\u001b[0;34m\u001b[0m\u001b[0m\n\u001b[0;32m----> 4\u001b[0;31m     \u001b[0mloss\u001b[0m \u001b[0;34m=\u001b[0m \u001b[0;34m(\u001b[0m\u001b[0my\u001b[0m\u001b[0;34m.\u001b[0m\u001b[0mT\u001b[0m\u001b[0;34m.\u001b[0m\u001b[0mdot\u001b[0m\u001b[0;34m(\u001b[0m\u001b[0mnp\u001b[0m\u001b[0;34m.\u001b[0m\u001b[0mlog\u001b[0m\u001b[0;34m(\u001b[0m\u001b[0msigma\u001b[0m\u001b[0;34m)\u001b[0m\u001b[0;34m)\u001b[0m \u001b[0;34m+\u001b[0m \u001b[0;34m(\u001b[0m\u001b[0;36m1\u001b[0m\u001b[0;34m-\u001b[0m\u001b[0my\u001b[0m\u001b[0;34m)\u001b[0m\u001b[0;34m.\u001b[0m\u001b[0mT\u001b[0m\u001b[0;34m.\u001b[0m\u001b[0mdot\u001b[0m\u001b[0;34m(\u001b[0m\u001b[0mnp\u001b[0m\u001b[0;34m.\u001b[0m\u001b[0mlog\u001b[0m\u001b[0;34m(\u001b[0m\u001b[0;36m1\u001b[0m\u001b[0;34m-\u001b[0m\u001b[0msigma\u001b[0m\u001b[0;34m)\u001b[0m\u001b[0;34m)\u001b[0m\u001b[0;34m)\u001b[0m\u001b[0;34m\u001b[0m\u001b[0;34m\u001b[0m\u001b[0m\n\u001b[0m\u001b[1;32m      5\u001b[0m     \u001b[0;32mreturn\u001b[0m \u001b[0mnp\u001b[0m\u001b[0;34m.\u001b[0m\u001b[0msqueeze\u001b[0m\u001b[0;34m(\u001b[0m\u001b[0;34m-\u001b[0m\u001b[0mloss\u001b[0m\u001b[0;34m)\u001b[0m\u001b[0;34m\u001b[0m\u001b[0;34m\u001b[0m\u001b[0m\n",
      "\u001b[0;31mKeyboardInterrupt\u001b[0m: "
     ]
    }
   ],
   "source": [
    "model, final_loss = logistic_regression_penalized_gradient_descent_demo(y_bin, x_st, gamma, lambda_, batch_size, max_iter)"
   ]
  },
  {
   "cell_type": "markdown",
   "id": "735b2286-7e61-409e-b35e-c88e525eee18",
   "metadata": {},
   "source": [
    "## Generate predictions and save ouput in csv format for submission:"
   ]
  },
  {
   "cell_type": "code",
   "execution_count": 73,
   "id": "b196fb2b-8342-4ff5-8d58-7dabe22265f9",
   "metadata": {},
   "outputs": [],
   "source": [
    "np.savetxt('model.out', model, delimiter=',')"
   ]
  },
  {
   "cell_type": "code",
   "execution_count": 74,
   "id": "40854225-4374-46e0-9b2e-526a01944912",
   "metadata": {
    "collapsed": false,
    "jupyter": {
     "outputs_hidden": false
    }
   },
   "outputs": [],
   "source": [
    "DATA_TEST_PATH = './test.csv' # TODO: download train data and supply path here \n",
    "_, tX_test, ids_test = load_csv_data(DATA_TEST_PATH)"
   ]
  },
  {
   "cell_type": "code",
   "execution_count": 75,
   "id": "999f3c8e-67de-4322-93b0-18c9f8f67b20",
   "metadata": {},
   "outputs": [
    {
     "data": {
      "text/plain": [
       "(568238, 16)"
      ]
     },
     "execution_count": 75,
     "metadata": {},
     "output_type": "execute_result"
    }
   ],
   "source": [
    "f_to_remove = np.array([0, 4, 5, 6, 12, 23, 24, 25, 26, 27, 28])\n",
    "tX_test = np.delete(tX_test,f_to_remove,1)\n",
    "f_to_remove = np.array([2,16,18])\n",
    "tX_test = np.delete(tX_test,f_to_remove,1)\n",
    "np.shape(tX_test)"
   ]
  },
  {
   "cell_type": "code",
   "execution_count": 77,
   "id": "c5c7153c-c2d2-47f7-88a5-ca61c93c744a",
   "metadata": {
    "collapsed": false,
    "jupyter": {
     "outputs_hidden": false
    }
   },
   "outputs": [],
   "source": [
    "OUTPUT_PATH = './out_better_yet.csv' # TODO: fill in desired name of output file for submission\n",
    "y_pred = predict_labels(model, tX_test)\n",
    "create_csv_submission(ids_test, y_pred, OUTPUT_PATH)"
   ]
  },
  {
   "cell_type": "code",
   "execution_count": null,
   "id": "ea71c462-0fa3-4017-8048-738c85f717ba",
   "metadata": {
    "collapsed": true,
    "jupyter": {
     "outputs_hidden": true
    }
   },
   "outputs": [],
   "source": []
  }
 ],
 "metadata": {
  "kernelspec": {
   "display_name": "Python",
   "language": "python",
   "name": "python3"
  },
  "language_info": {
   "codemirror_mode": {
    "name": "ipython",
    "version": 3
   },
   "file_extension": ".py",
   "mimetype": "text/x-python",
   "name": "python",
   "nbconvert_exporter": "python",
   "pygments_lexer": "ipython3",
   "version": "3.8.10"
  }
 },
 "nbformat": 4,
 "nbformat_minor": 5
}
